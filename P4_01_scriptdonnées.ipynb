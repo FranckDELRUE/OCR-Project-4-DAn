{
 "cells": [
  {
   "cell_type": "markdown",
   "metadata": {},
   "source": [
    "# Projet 4 - Analysez les ventes de votre entreprise"
   ]
  },
  {
   "cell_type": "markdown",
   "metadata": {},
   "source": [
    "# Partie I - Nettoyage des données"
   ]
  },
  {
   "cell_type": "markdown",
   "metadata": {},
   "source": [
    "Nous allons étudier les ventes de livres en ligne de la société.\n",
    "\n",
    "Pour se faire nous allons tout d'abord nettoyer les données provenant de la base de donnée, ensuite les analyser pour en tirer les informations pertinentes, et enfin vérifier les corrélations suivantes :\n",
    "\n",
    "* Y a-t-il une corrélation entre le sexe des clients et les catégories de produits achetés ?\n",
    "* Y a-t-il une corrélation entre l'âge des clients et :\n",
    "    * Le montant total des achats ;\n",
    "    * La fréquence d’achat (ie. nombre d'achats par mois par exemple) ;\n",
    "    * La taille du panier moyen (en nombre d’articles) ;\n",
    "    * Les catégories de produits achetés."
   ]
  },
  {
   "cell_type": "markdown",
   "metadata": {},
   "source": [
    "## Table des matières"
   ]
  },
  {
   "cell_type": "markdown",
   "metadata": {},
   "source": [
    "1. __Importation des données__\n",
    "\n",
    "\n",
    "2. __Vérification de données manquantes__\n",
    "\n",
    "    1. Fichier customers\n",
    "    2. Fichier products\n",
    "    3. Fichier transactions\n",
    "\n",
    "    \n",
    "    \n",
    "3. __Nettoyage des fichiers__\n",
    "\n",
    "    1. Nettoyage des données de test\n",
    "    2. Mise au format Datetime de la colonne date\n",
    "    3. Suppression des semaines sans vente de livres de categ 1\n",
    "    \n",
    "\n",
    "4. __Préparation du dataFrame de travail__\n",
    "\n",
    "    1. Assemblage des 3 fichiers en 1 seul\n",
    "    2. Création de nouvelles colonnes\n",
    "    3. Test Unitaire\n",
    "    \n",
    "    \n",
    "5. __Exportations des Data Frame en fichier csv__"
   ]
  },
  {
   "cell_type": "markdown",
   "metadata": {},
   "source": [
    "## 1. Importation des données"
   ]
  },
  {
   "cell_type": "markdown",
   "metadata": {},
   "source": [
    "Dans un premier temps, nous allons importer les données téléchargées depuis le site OCR"
   ]
  },
  {
   "cell_type": "code",
   "execution_count": 1,
   "metadata": {},
   "outputs": [],
   "source": [
    "import pandas as pd\n",
    "import numpy as np\n",
    "import math\n",
    "import seaborn as sns\n",
    "import matplotlib.pyplot as plt\n",
    "%matplotlib inline\n",
    "\n",
    "sns.set(color_codes = True)"
   ]
  },
  {
   "cell_type": "code",
   "execution_count": 2,
   "metadata": {},
   "outputs": [],
   "source": [
    "customers = pd.read_csv('./Dataset/customers.csv')\n",
    "products = pd.read_csv('./Dataset/products.csv')\n",
    "transactions = pd.read_csv('./Dataset/transactions.csv', parse_dates=[1])"
   ]
  },
  {
   "cell_type": "markdown",
   "metadata": {},
   "source": [
    "Nous allons, maintenant, regarder les dataFrames pour remarquer les valeurs manquantes"
   ]
  },
  {
   "cell_type": "markdown",
   "metadata": {},
   "source": [
    "## 2. Vérification de données manquantes"
   ]
  },
  {
   "cell_type": "markdown",
   "metadata": {},
   "source": [
    "### A. Fichier *customers*"
   ]
  },
  {
   "cell_type": "code",
   "execution_count": 3,
   "metadata": {},
   "outputs": [
    {
     "data": {
      "text/plain": [
       "client_id    0\n",
       "sex          0\n",
       "birth        0\n",
       "dtype: int64"
      ]
     },
     "execution_count": 3,
     "metadata": {},
     "output_type": "execute_result"
    }
   ],
   "source": [
    "customers.isnull().sum()"
   ]
  },
  {
   "cell_type": "markdown",
   "metadata": {},
   "source": [
    "Il n'y a pas de valeur nulle dans ce fichier."
   ]
  },
  {
   "cell_type": "code",
   "execution_count": 4,
   "metadata": {},
   "outputs": [
    {
     "data": {
      "text/html": [
       "<div>\n",
       "<style scoped>\n",
       "    .dataframe tbody tr th:only-of-type {\n",
       "        vertical-align: middle;\n",
       "    }\n",
       "\n",
       "    .dataframe tbody tr th {\n",
       "        vertical-align: top;\n",
       "    }\n",
       "\n",
       "    .dataframe thead th {\n",
       "        text-align: right;\n",
       "    }\n",
       "</style>\n",
       "<table border=\"1\" class=\"dataframe\">\n",
       "  <thead>\n",
       "    <tr style=\"text-align: right;\">\n",
       "      <th></th>\n",
       "      <th>birth</th>\n",
       "    </tr>\n",
       "  </thead>\n",
       "  <tbody>\n",
       "    <tr>\n",
       "      <th>count</th>\n",
       "      <td>8623.000000</td>\n",
       "    </tr>\n",
       "    <tr>\n",
       "      <th>mean</th>\n",
       "      <td>1978.280877</td>\n",
       "    </tr>\n",
       "    <tr>\n",
       "      <th>std</th>\n",
       "      <td>16.919535</td>\n",
       "    </tr>\n",
       "    <tr>\n",
       "      <th>min</th>\n",
       "      <td>1929.000000</td>\n",
       "    </tr>\n",
       "    <tr>\n",
       "      <th>25%</th>\n",
       "      <td>1966.000000</td>\n",
       "    </tr>\n",
       "    <tr>\n",
       "      <th>50%</th>\n",
       "      <td>1979.000000</td>\n",
       "    </tr>\n",
       "    <tr>\n",
       "      <th>75%</th>\n",
       "      <td>1992.000000</td>\n",
       "    </tr>\n",
       "    <tr>\n",
       "      <th>max</th>\n",
       "      <td>2004.000000</td>\n",
       "    </tr>\n",
       "  </tbody>\n",
       "</table>\n",
       "</div>"
      ],
      "text/plain": [
       "             birth\n",
       "count  8623.000000\n",
       "mean   1978.280877\n",
       "std      16.919535\n",
       "min    1929.000000\n",
       "25%    1966.000000\n",
       "50%    1979.000000\n",
       "75%    1992.000000\n",
       "max    2004.000000"
      ]
     },
     "execution_count": 4,
     "metadata": {},
     "output_type": "execute_result"
    }
   ],
   "source": [
    "customers.describe()"
   ]
  },
  {
   "cell_type": "markdown",
   "metadata": {},
   "source": [
    "Les valeurs numériques sont comprises entre 1929 et 2004, ce qui semble normal"
   ]
  },
  {
   "cell_type": "code",
   "execution_count": 5,
   "metadata": {},
   "outputs": [
    {
     "data": {
      "text/plain": [
       "client_id    True\n",
       "sex          True\n",
       "birth        True\n",
       "dtype: bool"
      ]
     },
     "execution_count": 5,
     "metadata": {},
     "output_type": "execute_result"
    }
   ],
   "source": [
    "customers.count() == customers.drop_duplicates('client_id').count()"
   ]
  },
  {
   "cell_type": "markdown",
   "metadata": {},
   "source": [
    "Il n'y a pas d'*id_client* en double."
   ]
  },
  {
   "cell_type": "code",
   "execution_count": 6,
   "metadata": {},
   "outputs": [
    {
     "data": {
      "text/plain": [
       "f    4491\n",
       "m    4132\n",
       "Name: sex, dtype: int64"
      ]
     },
     "execution_count": 6,
     "metadata": {},
     "output_type": "execute_result"
    }
   ],
   "source": [
    "customers['sex'].value_counts()"
   ]
  },
  {
   "cell_type": "markdown",
   "metadata": {},
   "source": [
    "Les valeurs pour la colonne *sex* ne comportent que des valeurs *f* et *m*"
   ]
  },
  {
   "cell_type": "code",
   "execution_count": 7,
   "metadata": {},
   "outputs": [
    {
     "data": {
      "text/plain": [
       "2004    440\n",
       "1979    215\n",
       "1988    207\n",
       "1986    203\n",
       "1978    199\n",
       "       ... \n",
       "1935      8\n",
       "1932      6\n",
       "1931      4\n",
       "1930      4\n",
       "1929      3\n",
       "Name: birth, Length: 76, dtype: int64"
      ]
     },
     "execution_count": 7,
     "metadata": {},
     "output_type": "execute_result"
    }
   ],
   "source": [
    "customers['birth'].value_counts()"
   ]
  },
  {
   "cell_type": "code",
   "execution_count": 8,
   "metadata": {},
   "outputs": [
    {
     "data": {
      "text/plain": [
       "<matplotlib.axes._subplots.AxesSubplot at 0x7f46550e7a10>"
      ]
     },
     "execution_count": 8,
     "metadata": {},
     "output_type": "execute_result"
    },
    {
     "data": {
      "image/png": "[encoded data removed]",
      "text/plain": [
       "<Figure size 432x288 with 1 Axes>"
      ]
     },
     "metadata": {},
     "output_type": "display_data"
    }
   ],
   "source": [
    "sns.distplot(customers['birth'], kde=False, bins=76)"
   ]
  },
  {
   "cell_type": "markdown",
   "metadata": {},
   "source": [
    "Nous avons, ici, pour les années de naissance, environ 5% des clients qui sont nés en 2004. Est-ce un erreur ou une particularité, à relever, du site, qui cible les adolescents. Est-ce que dans l'inscription en ligne, cette année comprend les clients nés en 2004 et avant ?\n",
    "\n",
    "Le reste du dataFrame ne présente pas de valeurs manquantes ou erronées"
   ]
  },
  {
   "cell_type": "markdown",
   "metadata": {},
   "source": [
    "### B. Fichier *products*"
   ]
  },
  {
   "cell_type": "code",
   "execution_count": 9,
   "metadata": {},
   "outputs": [
    {
     "data": {
      "text/plain": [
       "id_prod    0\n",
       "price      0\n",
       "categ      0\n",
       "dtype: int64"
      ]
     },
     "execution_count": 9,
     "metadata": {},
     "output_type": "execute_result"
    }
   ],
   "source": [
    "products.isnull().sum()"
   ]
  },
  {
   "cell_type": "markdown",
   "metadata": {},
   "source": [
    "Il n'y a pas de valeur nulle présente dans ce fichier"
   ]
  },
  {
   "cell_type": "code",
   "execution_count": 10,
   "metadata": {},
   "outputs": [
    {
     "data": {
      "text/html": [
       "<div>\n",
       "<style scoped>\n",
       "    .dataframe tbody tr th:only-of-type {\n",
       "        vertical-align: middle;\n",
       "    }\n",
       "\n",
       "    .dataframe tbody tr th {\n",
       "        vertical-align: top;\n",
       "    }\n",
       "\n",
       "    .dataframe thead th {\n",
       "        text-align: right;\n",
       "    }\n",
       "</style>\n",
       "<table border=\"1\" class=\"dataframe\">\n",
       "  <thead>\n",
       "    <tr style=\"text-align: right;\">\n",
       "      <th></th>\n",
       "      <th>price</th>\n",
       "      <th>categ</th>\n",
       "    </tr>\n",
       "  </thead>\n",
       "  <tbody>\n",
       "    <tr>\n",
       "      <th>count</th>\n",
       "      <td>3287.000000</td>\n",
       "      <td>3287.000000</td>\n",
       "    </tr>\n",
       "    <tr>\n",
       "      <th>mean</th>\n",
       "      <td>21.856641</td>\n",
       "      <td>0.370246</td>\n",
       "    </tr>\n",
       "    <tr>\n",
       "      <th>std</th>\n",
       "      <td>29.847908</td>\n",
       "      <td>0.615387</td>\n",
       "    </tr>\n",
       "    <tr>\n",
       "      <th>min</th>\n",
       "      <td>-1.000000</td>\n",
       "      <td>0.000000</td>\n",
       "    </tr>\n",
       "    <tr>\n",
       "      <th>25%</th>\n",
       "      <td>6.990000</td>\n",
       "      <td>0.000000</td>\n",
       "    </tr>\n",
       "    <tr>\n",
       "      <th>50%</th>\n",
       "      <td>13.060000</td>\n",
       "      <td>0.000000</td>\n",
       "    </tr>\n",
       "    <tr>\n",
       "      <th>75%</th>\n",
       "      <td>22.990000</td>\n",
       "      <td>1.000000</td>\n",
       "    </tr>\n",
       "    <tr>\n",
       "      <th>max</th>\n",
       "      <td>300.000000</td>\n",
       "      <td>2.000000</td>\n",
       "    </tr>\n",
       "  </tbody>\n",
       "</table>\n",
       "</div>"
      ],
      "text/plain": [
       "             price        categ\n",
       "count  3287.000000  3287.000000\n",
       "mean     21.856641     0.370246\n",
       "std      29.847908     0.615387\n",
       "min      -1.000000     0.000000\n",
       "25%       6.990000     0.000000\n",
       "50%      13.060000     0.000000\n",
       "75%      22.990000     1.000000\n",
       "max     300.000000     2.000000"
      ]
     },
     "execution_count": 10,
     "metadata": {},
     "output_type": "execute_result"
    }
   ],
   "source": [
    "products.describe()"
   ]
  },
  {
   "cell_type": "markdown",
   "metadata": {},
   "source": [
    "Il y a un ou plusieurs produit dont la valeur est négative."
   ]
  },
  {
   "cell_type": "code",
   "execution_count": 11,
   "metadata": {},
   "outputs": [
    {
     "data": {
      "text/plain": [
       "id_prod    True\n",
       "price      True\n",
       "categ      True\n",
       "dtype: bool"
      ]
     },
     "execution_count": 11,
     "metadata": {},
     "output_type": "execute_result"
    }
   ],
   "source": [
    "products['id_prod'].count() == products.drop_duplicates('id_prod').count()"
   ]
  },
  {
   "cell_type": "markdown",
   "metadata": {},
   "source": [
    "il n'y a pas d'*id_prod* en double"
   ]
  },
  {
   "cell_type": "code",
   "execution_count": 12,
   "metadata": {},
   "outputs": [
    {
     "data": {
      "text/plain": [
       "4.99     85\n",
       "6.99     84\n",
       "3.99     80\n",
       "5.99     78\n",
       "8.99     74\n",
       "         ..\n",
       "4.13      1\n",
       "2.84      1\n",
       "13.13     1\n",
       "18.77     1\n",
       "9.00      1\n",
       "Name: price, Length: 1455, dtype: int64"
      ]
     },
     "execution_count": 12,
     "metadata": {},
     "output_type": "execute_result"
    }
   ],
   "source": [
    "products['price'].value_counts()"
   ]
  },
  {
   "cell_type": "code",
   "execution_count": 13,
   "metadata": {},
   "outputs": [
    {
     "data": {
      "text/plain": [
       "0    2309\n",
       "1     739\n",
       "2     239\n",
       "Name: categ, dtype: int64"
      ]
     },
     "execution_count": 13,
     "metadata": {},
     "output_type": "execute_result"
    }
   ],
   "source": [
    "products['categ'].value_counts()"
   ]
  },
  {
   "cell_type": "markdown",
   "metadata": {},
   "source": [
    "Il y a trois valeurs pour *categ* 1, 2 et 3"
   ]
  },
  {
   "cell_type": "code",
   "execution_count": 14,
   "metadata": {},
   "outputs": [
    {
     "data": {
      "text/html": [
       "<div>\n",
       "<style scoped>\n",
       "    .dataframe tbody tr th:only-of-type {\n",
       "        vertical-align: middle;\n",
       "    }\n",
       "\n",
       "    .dataframe tbody tr th {\n",
       "        vertical-align: top;\n",
       "    }\n",
       "\n",
       "    .dataframe thead th {\n",
       "        text-align: right;\n",
       "    }\n",
       "</style>\n",
       "<table border=\"1\" class=\"dataframe\">\n",
       "  <thead>\n",
       "    <tr style=\"text-align: right;\">\n",
       "      <th></th>\n",
       "      <th>id_prod</th>\n",
       "      <th>price</th>\n",
       "      <th>categ</th>\n",
       "    </tr>\n",
       "  </thead>\n",
       "  <tbody>\n",
       "    <tr>\n",
       "      <th>731</th>\n",
       "      <td>T_0</td>\n",
       "      <td>-1.00</td>\n",
       "      <td>0</td>\n",
       "    </tr>\n",
       "    <tr>\n",
       "      <th>2272</th>\n",
       "      <td>0_528</td>\n",
       "      <td>0.62</td>\n",
       "      <td>0</td>\n",
       "    </tr>\n",
       "    <tr>\n",
       "      <th>2355</th>\n",
       "      <td>0_202</td>\n",
       "      <td>0.62</td>\n",
       "      <td>0</td>\n",
       "    </tr>\n",
       "    <tr>\n",
       "      <th>370</th>\n",
       "      <td>0_120</td>\n",
       "      <td>0.66</td>\n",
       "      <td>0</td>\n",
       "    </tr>\n",
       "    <tr>\n",
       "      <th>1211</th>\n",
       "      <td>0_1844</td>\n",
       "      <td>0.77</td>\n",
       "      <td>0</td>\n",
       "    </tr>\n",
       "    <tr>\n",
       "      <th>1530</th>\n",
       "      <td>0_1620</td>\n",
       "      <td>0.80</td>\n",
       "      <td>0</td>\n",
       "    </tr>\n",
       "    <tr>\n",
       "      <th>2302</th>\n",
       "      <td>0_1364</td>\n",
       "      <td>0.81</td>\n",
       "      <td>0</td>\n",
       "    </tr>\n",
       "    <tr>\n",
       "      <th>2425</th>\n",
       "      <td>0_612</td>\n",
       "      <td>0.88</td>\n",
       "      <td>0</td>\n",
       "    </tr>\n",
       "    <tr>\n",
       "      <th>2772</th>\n",
       "      <td>0_902</td>\n",
       "      <td>0.92</td>\n",
       "      <td>0</td>\n",
       "    </tr>\n",
       "    <tr>\n",
       "      <th>686</th>\n",
       "      <td>0_2138</td>\n",
       "      <td>0.93</td>\n",
       "      <td>0</td>\n",
       "    </tr>\n",
       "  </tbody>\n",
       "</table>\n",
       "</div>"
      ],
      "text/plain": [
       "     id_prod  price  categ\n",
       "731      T_0  -1.00      0\n",
       "2272   0_528   0.62      0\n",
       "2355   0_202   0.62      0\n",
       "370    0_120   0.66      0\n",
       "1211  0_1844   0.77      0\n",
       "1530  0_1620   0.80      0\n",
       "2302  0_1364   0.81      0\n",
       "2425   0_612   0.88      0\n",
       "2772   0_902   0.92      0\n",
       "686   0_2138   0.93      0"
      ]
     },
     "execution_count": 14,
     "metadata": {},
     "output_type": "execute_result"
    }
   ],
   "source": [
    "products.nsmallest(10, 'price')"
   ]
  },
  {
   "cell_type": "code",
   "execution_count": 15,
   "metadata": {},
   "outputs": [
    {
     "data": {
      "text/html": [
       "<div>\n",
       "<style scoped>\n",
       "    .dataframe tbody tr th:only-of-type {\n",
       "        vertical-align: middle;\n",
       "    }\n",
       "\n",
       "    .dataframe tbody tr th {\n",
       "        vertical-align: top;\n",
       "    }\n",
       "\n",
       "    .dataframe thead th {\n",
       "        text-align: right;\n",
       "    }\n",
       "</style>\n",
       "<table border=\"1\" class=\"dataframe\">\n",
       "  <thead>\n",
       "    <tr style=\"text-align: right;\">\n",
       "      <th></th>\n",
       "      <th>id_prod</th>\n",
       "      <th>price</th>\n",
       "      <th>categ</th>\n",
       "    </tr>\n",
       "  </thead>\n",
       "  <tbody>\n",
       "    <tr>\n",
       "      <th>947</th>\n",
       "      <td>2_2</td>\n",
       "      <td>300.00</td>\n",
       "      <td>2</td>\n",
       "    </tr>\n",
       "    <tr>\n",
       "      <th>724</th>\n",
       "      <td>2_76</td>\n",
       "      <td>254.44</td>\n",
       "      <td>2</td>\n",
       "    </tr>\n",
       "    <tr>\n",
       "      <th>394</th>\n",
       "      <td>2_158</td>\n",
       "      <td>247.22</td>\n",
       "      <td>2</td>\n",
       "    </tr>\n",
       "    <tr>\n",
       "      <th>1436</th>\n",
       "      <td>2_167</td>\n",
       "      <td>236.99</td>\n",
       "      <td>2</td>\n",
       "    </tr>\n",
       "    <tr>\n",
       "      <th>2779</th>\n",
       "      <td>2_30</td>\n",
       "      <td>233.54</td>\n",
       "      <td>2</td>\n",
       "    </tr>\n",
       "    <tr>\n",
       "      <th>1960</th>\n",
       "      <td>2_125</td>\n",
       "      <td>231.99</td>\n",
       "      <td>2</td>\n",
       "    </tr>\n",
       "    <tr>\n",
       "      <th>2487</th>\n",
       "      <td>2_166</td>\n",
       "      <td>230.04</td>\n",
       "      <td>2</td>\n",
       "    </tr>\n",
       "    <tr>\n",
       "      <th>786</th>\n",
       "      <td>2_40</td>\n",
       "      <td>228.11</td>\n",
       "      <td>2</td>\n",
       "    </tr>\n",
       "    <tr>\n",
       "      <th>10</th>\n",
       "      <td>2_228</td>\n",
       "      <td>225.17</td>\n",
       "      <td>2</td>\n",
       "    </tr>\n",
       "    <tr>\n",
       "      <th>1896</th>\n",
       "      <td>2_4</td>\n",
       "      <td>222.97</td>\n",
       "      <td>2</td>\n",
       "    </tr>\n",
       "  </tbody>\n",
       "</table>\n",
       "</div>"
      ],
      "text/plain": [
       "     id_prod   price  categ\n",
       "947      2_2  300.00      2\n",
       "724     2_76  254.44      2\n",
       "394    2_158  247.22      2\n",
       "1436   2_167  236.99      2\n",
       "2779    2_30  233.54      2\n",
       "1960   2_125  231.99      2\n",
       "2487   2_166  230.04      2\n",
       "786     2_40  228.11      2\n",
       "10     2_228  225.17      2\n",
       "1896     2_4  222.97      2"
      ]
     },
     "execution_count": 15,
     "metadata": {},
     "output_type": "execute_result"
    }
   ],
   "source": [
    "products.nlargest(10, 'price')"
   ]
  },
  {
   "cell_type": "markdown",
   "metadata": {},
   "source": [
    "Nous remarquons qu'un produit à une valeur de -1, est-ce qu'il correspond à une valeur test, comme le 'T' dans son identifiant le laisse présager ?\n",
    "\n",
    "Le reste du dataFrame ne présente pas de valeurs manquantes ou erronées."
   ]
  },
  {
   "cell_type": "markdown",
   "metadata": {},
   "source": [
    "### C. Fichier *transactions*"
   ]
  },
  {
   "cell_type": "code",
   "execution_count": 16,
   "metadata": {},
   "outputs": [
    {
     "data": {
      "text/plain": [
       "id_prod       0\n",
       "date          0\n",
       "session_id    0\n",
       "client_id     0\n",
       "dtype: int64"
      ]
     },
     "execution_count": 16,
     "metadata": {},
     "output_type": "execute_result"
    }
   ],
   "source": [
    "transactions.isnull().sum()"
   ]
  },
  {
   "cell_type": "code",
   "execution_count": 17,
   "metadata": {},
   "outputs": [
    {
     "data": {
      "text/html": [
       "<div>\n",
       "<style scoped>\n",
       "    .dataframe tbody tr th:only-of-type {\n",
       "        vertical-align: middle;\n",
       "    }\n",
       "\n",
       "    .dataframe tbody tr th {\n",
       "        vertical-align: top;\n",
       "    }\n",
       "\n",
       "    .dataframe thead th {\n",
       "        text-align: right;\n",
       "    }\n",
       "</style>\n",
       "<table border=\"1\" class=\"dataframe\">\n",
       "  <thead>\n",
       "    <tr style=\"text-align: right;\">\n",
       "      <th></th>\n",
       "      <th>id_prod</th>\n",
       "      <th>date</th>\n",
       "      <th>session_id</th>\n",
       "      <th>client_id</th>\n",
       "    </tr>\n",
       "  </thead>\n",
       "  <tbody>\n",
       "    <tr>\n",
       "      <th>count</th>\n",
       "      <td>337016</td>\n",
       "      <td>337016</td>\n",
       "      <td>337016</td>\n",
       "      <td>337016</td>\n",
       "    </tr>\n",
       "    <tr>\n",
       "      <th>unique</th>\n",
       "      <td>3266</td>\n",
       "      <td>336855</td>\n",
       "      <td>169195</td>\n",
       "      <td>8602</td>\n",
       "    </tr>\n",
       "    <tr>\n",
       "      <th>top</th>\n",
       "      <td>1_369</td>\n",
       "      <td>test_2021-03-01 02:30:02.237413</td>\n",
       "      <td>s_0</td>\n",
       "      <td>c_1609</td>\n",
       "    </tr>\n",
       "    <tr>\n",
       "      <th>freq</th>\n",
       "      <td>1081</td>\n",
       "      <td>13</td>\n",
       "      <td>200</td>\n",
       "      <td>12855</td>\n",
       "    </tr>\n",
       "  </tbody>\n",
       "</table>\n",
       "</div>"
      ],
      "text/plain": [
       "       id_prod                             date session_id client_id\n",
       "count   337016                           337016     337016    337016\n",
       "unique    3266                           336855     169195      8602\n",
       "top      1_369  test_2021-03-01 02:30:02.237413        s_0    c_1609\n",
       "freq      1081                               13        200     12855"
      ]
     },
     "execution_count": 17,
     "metadata": {},
     "output_type": "execute_result"
    }
   ],
   "source": [
    "transactions.describe()"
   ]
  },
  {
   "cell_type": "markdown",
   "metadata": {},
   "source": [
    "Nous constatons que certains articles n'ont pas été vendu, nous avons 3266 produits uniques de vendus sur un total de 3287 produits référencés. De plus, nous avons certains clients qui n'ont effectué aucun achat, nous avons, dans le dataframe transaction 8502 clients uniques alors qu'il y a 8623 clients d'enregistrés."
   ]
  },
  {
   "cell_type": "markdown",
   "metadata": {},
   "source": [
    "Nous avons dans la colonne date une valeur test : test_2021-03-01 02:30:02.237413"
   ]
  },
  {
   "cell_type": "markdown",
   "metadata": {},
   "source": [
    "## 3. Nettoyage des fichiers"
   ]
  },
  {
   "cell_type": "markdown",
   "metadata": {},
   "source": [
    "### A. Nettoyage des données de test"
   ]
  },
  {
   "cell_type": "markdown",
   "metadata": {},
   "source": [
    "Tout d'abord, nous allons enlever les données de test rentrées dans les dataFrames."
   ]
  },
  {
   "cell_type": "code",
   "execution_count": 18,
   "metadata": {},
   "outputs": [
    {
     "data": {
      "text/html": [
       "<div>\n",
       "<style scoped>\n",
       "    .dataframe tbody tr th:only-of-type {\n",
       "        vertical-align: middle;\n",
       "    }\n",
       "\n",
       "    .dataframe tbody tr th {\n",
       "        vertical-align: top;\n",
       "    }\n",
       "\n",
       "    .dataframe thead th {\n",
       "        text-align: right;\n",
       "    }\n",
       "</style>\n",
       "<table border=\"1\" class=\"dataframe\">\n",
       "  <thead>\n",
       "    <tr style=\"text-align: right;\">\n",
       "      <th></th>\n",
       "      <th>id_prod</th>\n",
       "      <th>date</th>\n",
       "      <th>session_id</th>\n",
       "      <th>client_id</th>\n",
       "    </tr>\n",
       "  </thead>\n",
       "  <tbody>\n",
       "    <tr>\n",
       "      <th>1431</th>\n",
       "      <td>T_0</td>\n",
       "      <td>test_2021-03-01 02:30:02.237420</td>\n",
       "      <td>s_0</td>\n",
       "      <td>ct_1</td>\n",
       "    </tr>\n",
       "    <tr>\n",
       "      <th>2365</th>\n",
       "      <td>T_0</td>\n",
       "      <td>test_2021-03-01 02:30:02.237446</td>\n",
       "      <td>s_0</td>\n",
       "      <td>ct_1</td>\n",
       "    </tr>\n",
       "    <tr>\n",
       "      <th>2895</th>\n",
       "      <td>T_0</td>\n",
       "      <td>test_2021-03-01 02:30:02.237414</td>\n",
       "      <td>s_0</td>\n",
       "      <td>ct_1</td>\n",
       "    </tr>\n",
       "    <tr>\n",
       "      <th>5955</th>\n",
       "      <td>T_0</td>\n",
       "      <td>test_2021-03-01 02:30:02.237441</td>\n",
       "      <td>s_0</td>\n",
       "      <td>ct_0</td>\n",
       "    </tr>\n",
       "    <tr>\n",
       "      <th>7283</th>\n",
       "      <td>T_0</td>\n",
       "      <td>test_2021-03-01 02:30:02.237434</td>\n",
       "      <td>s_0</td>\n",
       "      <td>ct_1</td>\n",
       "    </tr>\n",
       "    <tr>\n",
       "      <th>...</th>\n",
       "      <td>...</td>\n",
       "      <td>...</td>\n",
       "      <td>...</td>\n",
       "      <td>...</td>\n",
       "    </tr>\n",
       "    <tr>\n",
       "      <th>332594</th>\n",
       "      <td>T_0</td>\n",
       "      <td>test_2021-03-01 02:30:02.237445</td>\n",
       "      <td>s_0</td>\n",
       "      <td>ct_0</td>\n",
       "    </tr>\n",
       "    <tr>\n",
       "      <th>332705</th>\n",
       "      <td>T_0</td>\n",
       "      <td>test_2021-03-01 02:30:02.237423</td>\n",
       "      <td>s_0</td>\n",
       "      <td>ct_1</td>\n",
       "    </tr>\n",
       "    <tr>\n",
       "      <th>332730</th>\n",
       "      <td>T_0</td>\n",
       "      <td>test_2021-03-01 02:30:02.237421</td>\n",
       "      <td>s_0</td>\n",
       "      <td>ct_1</td>\n",
       "    </tr>\n",
       "    <tr>\n",
       "      <th>333442</th>\n",
       "      <td>T_0</td>\n",
       "      <td>test_2021-03-01 02:30:02.237431</td>\n",
       "      <td>s_0</td>\n",
       "      <td>ct_1</td>\n",
       "    </tr>\n",
       "    <tr>\n",
       "      <th>335279</th>\n",
       "      <td>T_0</td>\n",
       "      <td>test_2021-03-01 02:30:02.237430</td>\n",
       "      <td>s_0</td>\n",
       "      <td>ct_0</td>\n",
       "    </tr>\n",
       "  </tbody>\n",
       "</table>\n",
       "<p>200 rows × 4 columns</p>\n",
       "</div>"
      ],
      "text/plain": [
       "       id_prod                             date session_id client_id\n",
       "1431       T_0  test_2021-03-01 02:30:02.237420        s_0      ct_1\n",
       "2365       T_0  test_2021-03-01 02:30:02.237446        s_0      ct_1\n",
       "2895       T_0  test_2021-03-01 02:30:02.237414        s_0      ct_1\n",
       "5955       T_0  test_2021-03-01 02:30:02.237441        s_0      ct_0\n",
       "7283       T_0  test_2021-03-01 02:30:02.237434        s_0      ct_1\n",
       "...        ...                              ...        ...       ...\n",
       "332594     T_0  test_2021-03-01 02:30:02.237445        s_0      ct_0\n",
       "332705     T_0  test_2021-03-01 02:30:02.237423        s_0      ct_1\n",
       "332730     T_0  test_2021-03-01 02:30:02.237421        s_0      ct_1\n",
       "333442     T_0  test_2021-03-01 02:30:02.237431        s_0      ct_1\n",
       "335279     T_0  test_2021-03-01 02:30:02.237430        s_0      ct_0\n",
       "\n",
       "[200 rows x 4 columns]"
      ]
     },
     "execution_count": 18,
     "metadata": {},
     "output_type": "execute_result"
    }
   ],
   "source": [
    "transactions[transactions['date'].str.contains('test')]"
   ]
  },
  {
   "cell_type": "markdown",
   "metadata": {},
   "source": [
    "Nous remarquons que les tests ont été fait avec d'autres éléments prédéfinis. Nous allons rechercher ces éléments pour les enlever de nos dataFrames pour éviter de fausser notre analyse."
   ]
  },
  {
   "cell_type": "code",
   "execution_count": 19,
   "metadata": {},
   "outputs": [
    {
     "data": {
      "text/html": [
       "<div>\n",
       "<style scoped>\n",
       "    .dataframe tbody tr th:only-of-type {\n",
       "        vertical-align: middle;\n",
       "    }\n",
       "\n",
       "    .dataframe tbody tr th {\n",
       "        vertical-align: top;\n",
       "    }\n",
       "\n",
       "    .dataframe thead th {\n",
       "        text-align: right;\n",
       "    }\n",
       "</style>\n",
       "<table border=\"1\" class=\"dataframe\">\n",
       "  <thead>\n",
       "    <tr style=\"text-align: right;\">\n",
       "      <th></th>\n",
       "      <th>id_prod</th>\n",
       "      <th>date</th>\n",
       "      <th>session_id</th>\n",
       "      <th>client_id</th>\n",
       "    </tr>\n",
       "  </thead>\n",
       "  <tbody>\n",
       "    <tr>\n",
       "      <th>count</th>\n",
       "      <td>200</td>\n",
       "      <td>200</td>\n",
       "      <td>200</td>\n",
       "      <td>200</td>\n",
       "    </tr>\n",
       "    <tr>\n",
       "      <th>unique</th>\n",
       "      <td>1</td>\n",
       "      <td>39</td>\n",
       "      <td>1</td>\n",
       "      <td>2</td>\n",
       "    </tr>\n",
       "    <tr>\n",
       "      <th>top</th>\n",
       "      <td>T_0</td>\n",
       "      <td>test_2021-03-01 02:30:02.237413</td>\n",
       "      <td>s_0</td>\n",
       "      <td>ct_0</td>\n",
       "    </tr>\n",
       "    <tr>\n",
       "      <th>freq</th>\n",
       "      <td>200</td>\n",
       "      <td>13</td>\n",
       "      <td>200</td>\n",
       "      <td>106</td>\n",
       "    </tr>\n",
       "  </tbody>\n",
       "</table>\n",
       "</div>"
      ],
      "text/plain": [
       "       id_prod                             date session_id client_id\n",
       "count      200                              200        200       200\n",
       "unique       1                               39          1         2\n",
       "top        T_0  test_2021-03-01 02:30:02.237413        s_0      ct_0\n",
       "freq       200                               13        200       106"
      ]
     },
     "execution_count": 19,
     "metadata": {},
     "output_type": "execute_result"
    }
   ],
   "source": [
    "transactions.loc[transactions['date'].str.contains('test')].describe()"
   ]
  },
  {
   "cell_type": "markdown",
   "metadata": {},
   "source": [
    "Nous remarquons que nous avons un produit unique (T_0), une session unique (s_0), et deux clients uniques (ct_0 et ct_1). Nous allons enlever ces éléments après vérification"
   ]
  },
  {
   "cell_type": "code",
   "execution_count": 20,
   "metadata": {},
   "outputs": [
    {
     "data": {
      "text/html": [
       "<div>\n",
       "<style scoped>\n",
       "    .dataframe tbody tr th:only-of-type {\n",
       "        vertical-align: middle;\n",
       "    }\n",
       "\n",
       "    .dataframe tbody tr th {\n",
       "        vertical-align: top;\n",
       "    }\n",
       "\n",
       "    .dataframe thead th {\n",
       "        text-align: right;\n",
       "    }\n",
       "</style>\n",
       "<table border=\"1\" class=\"dataframe\">\n",
       "  <thead>\n",
       "    <tr style=\"text-align: right;\">\n",
       "      <th></th>\n",
       "      <th>id_prod</th>\n",
       "      <th>date</th>\n",
       "      <th>session_id</th>\n",
       "      <th>client_id</th>\n",
       "    </tr>\n",
       "  </thead>\n",
       "  <tbody>\n",
       "    <tr>\n",
       "      <th>count</th>\n",
       "      <td>200</td>\n",
       "      <td>200</td>\n",
       "      <td>200</td>\n",
       "      <td>200</td>\n",
       "    </tr>\n",
       "    <tr>\n",
       "      <th>unique</th>\n",
       "      <td>1</td>\n",
       "      <td>39</td>\n",
       "      <td>1</td>\n",
       "      <td>2</td>\n",
       "    </tr>\n",
       "    <tr>\n",
       "      <th>top</th>\n",
       "      <td>T_0</td>\n",
       "      <td>test_2021-03-01 02:30:02.237413</td>\n",
       "      <td>s_0</td>\n",
       "      <td>ct_0</td>\n",
       "    </tr>\n",
       "    <tr>\n",
       "      <th>freq</th>\n",
       "      <td>200</td>\n",
       "      <td>13</td>\n",
       "      <td>200</td>\n",
       "      <td>106</td>\n",
       "    </tr>\n",
       "  </tbody>\n",
       "</table>\n",
       "</div>"
      ],
      "text/plain": [
       "       id_prod                             date session_id client_id\n",
       "count      200                              200        200       200\n",
       "unique       1                               39          1         2\n",
       "top        T_0  test_2021-03-01 02:30:02.237413        s_0      ct_0\n",
       "freq       200                               13        200       106"
      ]
     },
     "execution_count": 20,
     "metadata": {},
     "output_type": "execute_result"
    }
   ],
   "source": [
    "transactions.loc[transactions['id_prod'] == 'T_0'].describe()"
   ]
  },
  {
   "cell_type": "markdown",
   "metadata": {},
   "source": [
    "Le client T_0 n'a été utilisé que pour les 200 achats tests"
   ]
  },
  {
   "cell_type": "code",
   "execution_count": 21,
   "metadata": {},
   "outputs": [
    {
     "data": {
      "text/html": [
       "<div>\n",
       "<style scoped>\n",
       "    .dataframe tbody tr th:only-of-type {\n",
       "        vertical-align: middle;\n",
       "    }\n",
       "\n",
       "    .dataframe tbody tr th {\n",
       "        vertical-align: top;\n",
       "    }\n",
       "\n",
       "    .dataframe thead th {\n",
       "        text-align: right;\n",
       "    }\n",
       "</style>\n",
       "<table border=\"1\" class=\"dataframe\">\n",
       "  <thead>\n",
       "    <tr style=\"text-align: right;\">\n",
       "      <th></th>\n",
       "      <th>id_prod</th>\n",
       "      <th>date</th>\n",
       "      <th>session_id</th>\n",
       "      <th>client_id</th>\n",
       "    </tr>\n",
       "  </thead>\n",
       "  <tbody>\n",
       "    <tr>\n",
       "      <th>count</th>\n",
       "      <td>200</td>\n",
       "      <td>200</td>\n",
       "      <td>200</td>\n",
       "      <td>200</td>\n",
       "    </tr>\n",
       "    <tr>\n",
       "      <th>unique</th>\n",
       "      <td>1</td>\n",
       "      <td>39</td>\n",
       "      <td>1</td>\n",
       "      <td>2</td>\n",
       "    </tr>\n",
       "    <tr>\n",
       "      <th>top</th>\n",
       "      <td>T_0</td>\n",
       "      <td>test_2021-03-01 02:30:02.237413</td>\n",
       "      <td>s_0</td>\n",
       "      <td>ct_0</td>\n",
       "    </tr>\n",
       "    <tr>\n",
       "      <th>freq</th>\n",
       "      <td>200</td>\n",
       "      <td>13</td>\n",
       "      <td>200</td>\n",
       "      <td>106</td>\n",
       "    </tr>\n",
       "  </tbody>\n",
       "</table>\n",
       "</div>"
      ],
      "text/plain": [
       "       id_prod                             date session_id client_id\n",
       "count      200                              200        200       200\n",
       "unique       1                               39          1         2\n",
       "top        T_0  test_2021-03-01 02:30:02.237413        s_0      ct_0\n",
       "freq       200                               13        200       106"
      ]
     },
     "execution_count": 21,
     "metadata": {},
     "output_type": "execute_result"
    }
   ],
   "source": [
    "transactions.loc[transactions['session_id'] == 's_0'].describe()"
   ]
  },
  {
   "cell_type": "markdown",
   "metadata": {},
   "source": [
    "De même, la session s_0 n'a été utilisé que pour les 200 achats tests"
   ]
  },
  {
   "cell_type": "code",
   "execution_count": 22,
   "metadata": {},
   "outputs": [
    {
     "data": {
      "text/html": [
       "<div>\n",
       "<style scoped>\n",
       "    .dataframe tbody tr th:only-of-type {\n",
       "        vertical-align: middle;\n",
       "    }\n",
       "\n",
       "    .dataframe tbody tr th {\n",
       "        vertical-align: top;\n",
       "    }\n",
       "\n",
       "    .dataframe thead th {\n",
       "        text-align: right;\n",
       "    }\n",
       "</style>\n",
       "<table border=\"1\" class=\"dataframe\">\n",
       "  <thead>\n",
       "    <tr style=\"text-align: right;\">\n",
       "      <th></th>\n",
       "      <th>id_prod</th>\n",
       "      <th>date</th>\n",
       "      <th>session_id</th>\n",
       "      <th>client_id</th>\n",
       "    </tr>\n",
       "  </thead>\n",
       "  <tbody>\n",
       "    <tr>\n",
       "      <th>count</th>\n",
       "      <td>106</td>\n",
       "      <td>106</td>\n",
       "      <td>106</td>\n",
       "      <td>106</td>\n",
       "    </tr>\n",
       "    <tr>\n",
       "      <th>unique</th>\n",
       "      <td>1</td>\n",
       "      <td>37</td>\n",
       "      <td>1</td>\n",
       "      <td>1</td>\n",
       "    </tr>\n",
       "    <tr>\n",
       "      <th>top</th>\n",
       "      <td>T_0</td>\n",
       "      <td>test_2021-03-01 02:30:02.237413</td>\n",
       "      <td>s_0</td>\n",
       "      <td>ct_0</td>\n",
       "    </tr>\n",
       "    <tr>\n",
       "      <th>freq</th>\n",
       "      <td>106</td>\n",
       "      <td>9</td>\n",
       "      <td>106</td>\n",
       "      <td>106</td>\n",
       "    </tr>\n",
       "  </tbody>\n",
       "</table>\n",
       "</div>"
      ],
      "text/plain": [
       "       id_prod                             date session_id client_id\n",
       "count      106                              106        106       106\n",
       "unique       1                               37          1         1\n",
       "top        T_0  test_2021-03-01 02:30:02.237413        s_0      ct_0\n",
       "freq       106                                9        106       106"
      ]
     },
     "execution_count": 22,
     "metadata": {},
     "output_type": "execute_result"
    }
   ],
   "source": [
    "transactions.loc[transactions['client_id'] == 'ct_0'].describe()"
   ]
  },
  {
   "cell_type": "code",
   "execution_count": 23,
   "metadata": {},
   "outputs": [
    {
     "data": {
      "text/html": [
       "<div>\n",
       "<style scoped>\n",
       "    .dataframe tbody tr th:only-of-type {\n",
       "        vertical-align: middle;\n",
       "    }\n",
       "\n",
       "    .dataframe tbody tr th {\n",
       "        vertical-align: top;\n",
       "    }\n",
       "\n",
       "    .dataframe thead th {\n",
       "        text-align: right;\n",
       "    }\n",
       "</style>\n",
       "<table border=\"1\" class=\"dataframe\">\n",
       "  <thead>\n",
       "    <tr style=\"text-align: right;\">\n",
       "      <th></th>\n",
       "      <th>id_prod</th>\n",
       "      <th>date</th>\n",
       "      <th>session_id</th>\n",
       "      <th>client_id</th>\n",
       "    </tr>\n",
       "  </thead>\n",
       "  <tbody>\n",
       "    <tr>\n",
       "      <th>count</th>\n",
       "      <td>94</td>\n",
       "      <td>94</td>\n",
       "      <td>94</td>\n",
       "      <td>94</td>\n",
       "    </tr>\n",
       "    <tr>\n",
       "      <th>unique</th>\n",
       "      <td>1</td>\n",
       "      <td>37</td>\n",
       "      <td>1</td>\n",
       "      <td>1</td>\n",
       "    </tr>\n",
       "    <tr>\n",
       "      <th>top</th>\n",
       "      <td>T_0</td>\n",
       "      <td>test_2021-03-01 02:30:02.237412</td>\n",
       "      <td>s_0</td>\n",
       "      <td>ct_1</td>\n",
       "    </tr>\n",
       "    <tr>\n",
       "      <th>freq</th>\n",
       "      <td>94</td>\n",
       "      <td>5</td>\n",
       "      <td>94</td>\n",
       "      <td>94</td>\n",
       "    </tr>\n",
       "  </tbody>\n",
       "</table>\n",
       "</div>"
      ],
      "text/plain": [
       "       id_prod                             date session_id client_id\n",
       "count       94                               94         94        94\n",
       "unique       1                               37          1         1\n",
       "top        T_0  test_2021-03-01 02:30:02.237412        s_0      ct_1\n",
       "freq        94                                5         94        94"
      ]
     },
     "execution_count": 23,
     "metadata": {},
     "output_type": "execute_result"
    }
   ],
   "source": [
    "transactions.loc[transactions['client_id'] == 'ct_1'].describe()"
   ]
  },
  {
   "cell_type": "markdown",
   "metadata": {},
   "source": [
    "Pour finir, les clients ct_0 et ct_1 ont été également utilisé que pour les 200 achats tests ; 106 avec le client ct_0 et 94 avec le client ct_1"
   ]
  },
  {
   "cell_type": "markdown",
   "metadata": {},
   "source": [
    "Nous allons supprimer les 200 lignes contenant des dates de test"
   ]
  },
  {
   "cell_type": "code",
   "execution_count": 24,
   "metadata": {},
   "outputs": [],
   "source": [
    "transactions = transactions[~transactions['date'].str.contains('test')]"
   ]
  },
  {
   "cell_type": "markdown",
   "metadata": {},
   "source": [
    "Nous allons effacer le produit test T_0, d'une valeur négative, de la dataFrame products"
   ]
  },
  {
   "cell_type": "code",
   "execution_count": 25,
   "metadata": {},
   "outputs": [],
   "source": [
    "products = products[~(products['id_prod'] == 'T_0')]"
   ]
  },
  {
   "cell_type": "markdown",
   "metadata": {},
   "source": [
    "Nous allons effacer les clients ct_0 et ct_1 de la dataFrame customers"
   ]
  },
  {
   "cell_type": "code",
   "execution_count": 26,
   "metadata": {
    "scrolled": true
   },
   "outputs": [
    {
     "data": {
      "text/html": [
       "<div>\n",
       "<style scoped>\n",
       "    .dataframe tbody tr th:only-of-type {\n",
       "        vertical-align: middle;\n",
       "    }\n",
       "\n",
       "    .dataframe tbody tr th {\n",
       "        vertical-align: top;\n",
       "    }\n",
       "\n",
       "    .dataframe thead th {\n",
       "        text-align: right;\n",
       "    }\n",
       "</style>\n",
       "<table border=\"1\" class=\"dataframe\">\n",
       "  <thead>\n",
       "    <tr style=\"text-align: right;\">\n",
       "      <th></th>\n",
       "      <th>birth</th>\n",
       "    </tr>\n",
       "  </thead>\n",
       "  <tbody>\n",
       "    <tr>\n",
       "      <th>count</th>\n",
       "      <td>2.0</td>\n",
       "    </tr>\n",
       "    <tr>\n",
       "      <th>mean</th>\n",
       "      <td>2001.0</td>\n",
       "    </tr>\n",
       "    <tr>\n",
       "      <th>std</th>\n",
       "      <td>0.0</td>\n",
       "    </tr>\n",
       "    <tr>\n",
       "      <th>min</th>\n",
       "      <td>2001.0</td>\n",
       "    </tr>\n",
       "    <tr>\n",
       "      <th>25%</th>\n",
       "      <td>2001.0</td>\n",
       "    </tr>\n",
       "    <tr>\n",
       "      <th>50%</th>\n",
       "      <td>2001.0</td>\n",
       "    </tr>\n",
       "    <tr>\n",
       "      <th>75%</th>\n",
       "      <td>2001.0</td>\n",
       "    </tr>\n",
       "    <tr>\n",
       "      <th>max</th>\n",
       "      <td>2001.0</td>\n",
       "    </tr>\n",
       "  </tbody>\n",
       "</table>\n",
       "</div>"
      ],
      "text/plain": [
       "        birth\n",
       "count     2.0\n",
       "mean   2001.0\n",
       "std       0.0\n",
       "min    2001.0\n",
       "25%    2001.0\n",
       "50%    2001.0\n",
       "75%    2001.0\n",
       "max    2001.0"
      ]
     },
     "execution_count": 26,
     "metadata": {},
     "output_type": "execute_result"
    }
   ],
   "source": [
    "customers[customers['client_id'].str.contains('ct_')].describe()"
   ]
  },
  {
   "cell_type": "markdown",
   "metadata": {},
   "source": [
    "Nous n'avons que deux clients possèdant le préfixe 'ct', les clients tests, que nous allons enlever du dataFrame"
   ]
  },
  {
   "cell_type": "code",
   "execution_count": 27,
   "metadata": {},
   "outputs": [],
   "source": [
    "customers = customers[~customers['client_id'].str.contains('ct_')]"
   ]
  },
  {
   "cell_type": "markdown",
   "metadata": {},
   "source": [
    "Nous allons convertir la colonne date du dataFrame transactions en valeur de type datetime64"
   ]
  },
  {
   "cell_type": "markdown",
   "metadata": {},
   "source": [
    "### B. Mise au format Datetime de la colonne *date*"
   ]
  },
  {
   "cell_type": "code",
   "execution_count": 28,
   "metadata": {},
   "outputs": [],
   "source": [
    "transactions['date'] = pd.to_datetime(transactions['date'])"
   ]
  },
  {
   "cell_type": "code",
   "execution_count": 29,
   "metadata": {},
   "outputs": [
    {
     "data": {
      "text/plain": [
       "<matplotlib.axes._subplots.AxesSubplot at 0x7f4652f1f650>"
      ]
     },
     "execution_count": 29,
     "metadata": {},
     "output_type": "execute_result"
    },
    {
     "data": {
      "image/png": "[encoded data removed]",
      "text/plain": [
       "<Figure size 432x288 with 1 Axes>"
      ]
     },
     "metadata": {},
     "output_type": "display_data"
    }
   ],
   "source": [
    "transactions['date'].hist(bins = 12)"
   ]
  },
  {
   "cell_type": "markdown",
   "metadata": {},
   "source": [
    "Nous constatons que les dates s'étalent sur 1 an de Mars 2021 à Mars 2022."
   ]
  },
  {
   "cell_type": "code",
   "execution_count": 30,
   "metadata": {},
   "outputs": [],
   "source": [
    "df_transactions = transactions.merge(customers, how = 'inner', on = 'client_id')"
   ]
  },
  {
   "cell_type": "code",
   "execution_count": 31,
   "metadata": {},
   "outputs": [],
   "source": [
    "df_transactions = df_transactions.merge(products, how = 'inner', on= 'id_prod')"
   ]
  },
  {
   "cell_type": "markdown",
   "metadata": {},
   "source": [
    "### C. Suppression des semaines sans vente de livres de categ 1"
   ]
  },
  {
   "cell_type": "markdown",
   "metadata": {},
   "source": [
    "Nous avons vu durant l'analyse de données que la vente de livres de categ fut nulle durant les semaines 40 à 42, et eu un volume plus faible durant les semaines 39 et 43. Ainsi, pour garder un data Frame homogène, nous avons allons enlever ses 5 semaines, afin de ne pas fausser les valeurs des corrélations. Voir le paragraphes 6.A"
   ]
  },
  {
   "cell_type": "markdown",
   "metadata": {},
   "source": [
    "Nous allons faire une copie de la database et enlever les semaines 39 à 43 pendant la préparation du Data Frame"
   ]
  },
  {
   "cell_type": "markdown",
   "metadata": {},
   "source": [
    "Nous voyons qu'il n'y a pas de vente entre le 2 Octobre et le 36 octobre 2021"
   ]
  },
  {
   "cell_type": "code",
   "execution_count": 32,
   "metadata": {},
   "outputs": [
    {
     "data": {
      "image/png": "[encoded data removed]",
      "text/plain": [
       "<Figure size 1440x720 with 1 Axes>"
      ]
     },
     "metadata": {},
     "output_type": "display_data"
    }
   ],
   "source": [
    "fig, axes = plt.subplots(1, 1, figsize = (20, 10))\n",
    "df_transactions[(df_transactions['date'].dt.month == 10) & (df_transactions['categ'] == 1)]['date'].hist(bins=30)\n",
    "fig.suptitle(\"Vente de livres de categ 1 pendant le mois d'Octobre\", fontsize= 24)\n",
    "plt.savefig('pictures/vente_octobre.png')"
   ]
  },
  {
   "cell_type": "code",
   "execution_count": 33,
   "metadata": {
    "scrolled": true
   },
   "outputs": [
    {
     "data": {
      "text/plain": [
       "1373"
      ]
     },
     "execution_count": 33,
     "metadata": {},
     "output_type": "execute_result"
    }
   ],
   "source": [
    "df_transactions[(df_transactions['date'].dt.month == 11) & (df_transactions['categ'] == 2)]['date'].count()"
   ]
  },
  {
   "cell_type": "markdown",
   "metadata": {},
   "source": [
    "## 4. Préparation du dataFrame de travail"
   ]
  },
  {
   "cell_type": "markdown",
   "metadata": {},
   "source": [
    "### A. Assemblage des 3 fichiers en 1 seul"
   ]
  },
  {
   "cell_type": "code",
   "execution_count": 34,
   "metadata": {},
   "outputs": [
    {
     "data": {
      "text/html": [
       "<div>\n",
       "<style scoped>\n",
       "    .dataframe tbody tr th:only-of-type {\n",
       "        vertical-align: middle;\n",
       "    }\n",
       "\n",
       "    .dataframe tbody tr th {\n",
       "        vertical-align: top;\n",
       "    }\n",
       "\n",
       "    .dataframe thead th {\n",
       "        text-align: right;\n",
       "    }\n",
       "</style>\n",
       "<table border=\"1\" class=\"dataframe\">\n",
       "  <thead>\n",
       "    <tr style=\"text-align: right;\">\n",
       "      <th></th>\n",
       "      <th>birth</th>\n",
       "      <th>price</th>\n",
       "      <th>categ</th>\n",
       "    </tr>\n",
       "  </thead>\n",
       "  <tbody>\n",
       "    <tr>\n",
       "      <th>count</th>\n",
       "      <td>336713.000000</td>\n",
       "      <td>336713.000000</td>\n",
       "      <td>336713.000000</td>\n",
       "    </tr>\n",
       "    <tr>\n",
       "      <th>mean</th>\n",
       "      <td>1977.823568</td>\n",
       "      <td>17.215189</td>\n",
       "      <td>0.430156</td>\n",
       "    </tr>\n",
       "    <tr>\n",
       "      <th>std</th>\n",
       "      <td>13.524433</td>\n",
       "      <td>17.855445</td>\n",
       "      <td>0.591082</td>\n",
       "    </tr>\n",
       "    <tr>\n",
       "      <th>min</th>\n",
       "      <td>1929.000000</td>\n",
       "      <td>0.620000</td>\n",
       "      <td>0.000000</td>\n",
       "    </tr>\n",
       "    <tr>\n",
       "      <th>25%</th>\n",
       "      <td>1971.000000</td>\n",
       "      <td>8.610000</td>\n",
       "      <td>0.000000</td>\n",
       "    </tr>\n",
       "    <tr>\n",
       "      <th>50%</th>\n",
       "      <td>1980.000000</td>\n",
       "      <td>13.900000</td>\n",
       "      <td>0.000000</td>\n",
       "    </tr>\n",
       "    <tr>\n",
       "      <th>75%</th>\n",
       "      <td>1987.000000</td>\n",
       "      <td>18.990000</td>\n",
       "      <td>1.000000</td>\n",
       "    </tr>\n",
       "    <tr>\n",
       "      <th>max</th>\n",
       "      <td>2004.000000</td>\n",
       "      <td>300.000000</td>\n",
       "      <td>2.000000</td>\n",
       "    </tr>\n",
       "  </tbody>\n",
       "</table>\n",
       "</div>"
      ],
      "text/plain": [
       "               birth          price          categ\n",
       "count  336713.000000  336713.000000  336713.000000\n",
       "mean     1977.823568      17.215189       0.430156\n",
       "std        13.524433      17.855445       0.591082\n",
       "min      1929.000000       0.620000       0.000000\n",
       "25%      1971.000000       8.610000       0.000000\n",
       "50%      1980.000000      13.900000       0.000000\n",
       "75%      1987.000000      18.990000       1.000000\n",
       "max      2004.000000     300.000000       2.000000"
      ]
     },
     "execution_count": 34,
     "metadata": {},
     "output_type": "execute_result"
    }
   ],
   "source": [
    "df_transactions.describe()"
   ]
  },
  {
   "cell_type": "markdown",
   "metadata": {},
   "source": [
    "Nous allons merger les 3 dataFrames en 1 seul pour faciliter l'analyse des données"
   ]
  },
  {
   "cell_type": "markdown",
   "metadata": {},
   "source": [
    "Nous utilisons des *inner joints* pour éviter l'ajout de valeur nulle dans notre dataFrame. Nous avons des clients et des produits qui n'ont jamais été vendus, mais également, des commandes avec un produit non référencé."
   ]
  },
  {
   "cell_type": "code",
   "execution_count": 35,
   "metadata": {},
   "outputs": [
    {
     "data": {
      "text/html": [
       "<div>\n",
       "<style scoped>\n",
       "    .dataframe tbody tr th:only-of-type {\n",
       "        vertical-align: middle;\n",
       "    }\n",
       "\n",
       "    .dataframe tbody tr th {\n",
       "        vertical-align: top;\n",
       "    }\n",
       "\n",
       "    .dataframe thead th {\n",
       "        text-align: right;\n",
       "    }\n",
       "</style>\n",
       "<table border=\"1\" class=\"dataframe\">\n",
       "  <thead>\n",
       "    <tr style=\"text-align: right;\">\n",
       "      <th></th>\n",
       "      <th>id_prod</th>\n",
       "      <th>date</th>\n",
       "      <th>session_id</th>\n",
       "      <th>client_id</th>\n",
       "      <th>sex</th>\n",
       "      <th>birth</th>\n",
       "    </tr>\n",
       "  </thead>\n",
       "  <tbody>\n",
       "    <tr>\n",
       "      <th>336816</th>\n",
       "      <td>NaN</td>\n",
       "      <td>NaT</td>\n",
       "      <td>NaN</td>\n",
       "      <td>c_8253</td>\n",
       "      <td>f</td>\n",
       "      <td>2001</td>\n",
       "    </tr>\n",
       "    <tr>\n",
       "      <th>336817</th>\n",
       "      <td>NaN</td>\n",
       "      <td>NaT</td>\n",
       "      <td>NaN</td>\n",
       "      <td>c_3789</td>\n",
       "      <td>f</td>\n",
       "      <td>1997</td>\n",
       "    </tr>\n",
       "    <tr>\n",
       "      <th>336818</th>\n",
       "      <td>NaN</td>\n",
       "      <td>NaT</td>\n",
       "      <td>NaN</td>\n",
       "      <td>c_4406</td>\n",
       "      <td>f</td>\n",
       "      <td>1998</td>\n",
       "    </tr>\n",
       "    <tr>\n",
       "      <th>336819</th>\n",
       "      <td>NaN</td>\n",
       "      <td>NaT</td>\n",
       "      <td>NaN</td>\n",
       "      <td>c_2706</td>\n",
       "      <td>f</td>\n",
       "      <td>1967</td>\n",
       "    </tr>\n",
       "    <tr>\n",
       "      <th>336820</th>\n",
       "      <td>NaN</td>\n",
       "      <td>NaT</td>\n",
       "      <td>NaN</td>\n",
       "      <td>c_3443</td>\n",
       "      <td>m</td>\n",
       "      <td>1959</td>\n",
       "    </tr>\n",
       "    <tr>\n",
       "      <th>336821</th>\n",
       "      <td>NaN</td>\n",
       "      <td>NaT</td>\n",
       "      <td>NaN</td>\n",
       "      <td>c_4447</td>\n",
       "      <td>m</td>\n",
       "      <td>1956</td>\n",
       "    </tr>\n",
       "    <tr>\n",
       "      <th>336822</th>\n",
       "      <td>NaN</td>\n",
       "      <td>NaT</td>\n",
       "      <td>NaN</td>\n",
       "      <td>c_3017</td>\n",
       "      <td>f</td>\n",
       "      <td>1992</td>\n",
       "    </tr>\n",
       "    <tr>\n",
       "      <th>336823</th>\n",
       "      <td>NaN</td>\n",
       "      <td>NaT</td>\n",
       "      <td>NaN</td>\n",
       "      <td>c_4086</td>\n",
       "      <td>f</td>\n",
       "      <td>1992</td>\n",
       "    </tr>\n",
       "    <tr>\n",
       "      <th>336824</th>\n",
       "      <td>NaN</td>\n",
       "      <td>NaT</td>\n",
       "      <td>NaN</td>\n",
       "      <td>c_6930</td>\n",
       "      <td>m</td>\n",
       "      <td>2004</td>\n",
       "    </tr>\n",
       "    <tr>\n",
       "      <th>336825</th>\n",
       "      <td>NaN</td>\n",
       "      <td>NaT</td>\n",
       "      <td>NaN</td>\n",
       "      <td>c_4358</td>\n",
       "      <td>m</td>\n",
       "      <td>1999</td>\n",
       "    </tr>\n",
       "    <tr>\n",
       "      <th>336826</th>\n",
       "      <td>NaN</td>\n",
       "      <td>NaT</td>\n",
       "      <td>NaN</td>\n",
       "      <td>c_8381</td>\n",
       "      <td>f</td>\n",
       "      <td>1965</td>\n",
       "    </tr>\n",
       "    <tr>\n",
       "      <th>336827</th>\n",
       "      <td>NaN</td>\n",
       "      <td>NaT</td>\n",
       "      <td>NaN</td>\n",
       "      <td>c_1223</td>\n",
       "      <td>m</td>\n",
       "      <td>1963</td>\n",
       "    </tr>\n",
       "    <tr>\n",
       "      <th>336828</th>\n",
       "      <td>NaN</td>\n",
       "      <td>NaT</td>\n",
       "      <td>NaN</td>\n",
       "      <td>c_6862</td>\n",
       "      <td>f</td>\n",
       "      <td>2002</td>\n",
       "    </tr>\n",
       "    <tr>\n",
       "      <th>336829</th>\n",
       "      <td>NaN</td>\n",
       "      <td>NaT</td>\n",
       "      <td>NaN</td>\n",
       "      <td>c_5245</td>\n",
       "      <td>f</td>\n",
       "      <td>2004</td>\n",
       "    </tr>\n",
       "    <tr>\n",
       "      <th>336830</th>\n",
       "      <td>NaN</td>\n",
       "      <td>NaT</td>\n",
       "      <td>NaN</td>\n",
       "      <td>c_5223</td>\n",
       "      <td>m</td>\n",
       "      <td>2003</td>\n",
       "    </tr>\n",
       "    <tr>\n",
       "      <th>336831</th>\n",
       "      <td>NaN</td>\n",
       "      <td>NaT</td>\n",
       "      <td>NaN</td>\n",
       "      <td>c_6735</td>\n",
       "      <td>m</td>\n",
       "      <td>2004</td>\n",
       "    </tr>\n",
       "    <tr>\n",
       "      <th>336832</th>\n",
       "      <td>NaN</td>\n",
       "      <td>NaT</td>\n",
       "      <td>NaN</td>\n",
       "      <td>c_862</td>\n",
       "      <td>f</td>\n",
       "      <td>1956</td>\n",
       "    </tr>\n",
       "    <tr>\n",
       "      <th>336833</th>\n",
       "      <td>NaN</td>\n",
       "      <td>NaT</td>\n",
       "      <td>NaN</td>\n",
       "      <td>c_7584</td>\n",
       "      <td>f</td>\n",
       "      <td>1960</td>\n",
       "    </tr>\n",
       "    <tr>\n",
       "      <th>336834</th>\n",
       "      <td>NaN</td>\n",
       "      <td>NaT</td>\n",
       "      <td>NaN</td>\n",
       "      <td>c_90</td>\n",
       "      <td>m</td>\n",
       "      <td>2001</td>\n",
       "    </tr>\n",
       "    <tr>\n",
       "      <th>336835</th>\n",
       "      <td>NaN</td>\n",
       "      <td>NaT</td>\n",
       "      <td>NaN</td>\n",
       "      <td>c_587</td>\n",
       "      <td>m</td>\n",
       "      <td>1993</td>\n",
       "    </tr>\n",
       "    <tr>\n",
       "      <th>336836</th>\n",
       "      <td>NaN</td>\n",
       "      <td>NaT</td>\n",
       "      <td>NaN</td>\n",
       "      <td>c_3526</td>\n",
       "      <td>m</td>\n",
       "      <td>1956</td>\n",
       "    </tr>\n",
       "  </tbody>\n",
       "</table>\n",
       "</div>"
      ],
      "text/plain": [
       "       id_prod date session_id client_id sex  birth\n",
       "336816     NaN  NaT        NaN    c_8253   f   2001\n",
       "336817     NaN  NaT        NaN    c_3789   f   1997\n",
       "336818     NaN  NaT        NaN    c_4406   f   1998\n",
       "336819     NaN  NaT        NaN    c_2706   f   1967\n",
       "336820     NaN  NaT        NaN    c_3443   m   1959\n",
       "336821     NaN  NaT        NaN    c_4447   m   1956\n",
       "336822     NaN  NaT        NaN    c_3017   f   1992\n",
       "336823     NaN  NaT        NaN    c_4086   f   1992\n",
       "336824     NaN  NaT        NaN    c_6930   m   2004\n",
       "336825     NaN  NaT        NaN    c_4358   m   1999\n",
       "336826     NaN  NaT        NaN    c_8381   f   1965\n",
       "336827     NaN  NaT        NaN    c_1223   m   1963\n",
       "336828     NaN  NaT        NaN    c_6862   f   2002\n",
       "336829     NaN  NaT        NaN    c_5245   f   2004\n",
       "336830     NaN  NaT        NaN    c_5223   m   2003\n",
       "336831     NaN  NaT        NaN    c_6735   m   2004\n",
       "336832     NaN  NaT        NaN     c_862   f   1956\n",
       "336833     NaN  NaT        NaN    c_7584   f   1960\n",
       "336834     NaN  NaT        NaN      c_90   m   2001\n",
       "336835     NaN  NaT        NaN     c_587   m   1993\n",
       "336836     NaN  NaT        NaN    c_3526   m   1956"
      ]
     },
     "execution_count": 35,
     "metadata": {},
     "output_type": "execute_result"
    }
   ],
   "source": [
    "df = transactions.merge(customers, how = 'outer', on = 'client_id')\n",
    "df[df['id_prod'].isna()]"
   ]
  },
  {
   "cell_type": "markdown",
   "metadata": {},
   "source": [
    "Nous avons 21 clients qui n'ont jamais effectué d'achats sur le site."
   ]
  },
  {
   "cell_type": "code",
   "execution_count": 36,
   "metadata": {},
   "outputs": [
    {
     "data": {
      "text/plain": [
       "\"il y a 8600 clients soit 23 de moins que dans le fichiers Customers - les 2 clients Test et les 21 clients n'ayant jamais achetés sur le site\""
      ]
     },
     "execution_count": 36,
     "metadata": {},
     "output_type": "execute_result"
    }
   ],
   "source": [
    "f\"il y a {df_transactions.drop_duplicates('client_id')['client_id'].count()} clients soit 23 de moins que dans le fichiers Customers - les 2 clients Test et les 21 clients n'ayant jamais achetés sur le site\""
   ]
  },
  {
   "cell_type": "code",
   "execution_count": 37,
   "metadata": {},
   "outputs": [
    {
     "data": {
      "text/html": [
       "<div>\n",
       "<style scoped>\n",
       "    .dataframe tbody tr th:only-of-type {\n",
       "        vertical-align: middle;\n",
       "    }\n",
       "\n",
       "    .dataframe tbody tr th {\n",
       "        vertical-align: top;\n",
       "    }\n",
       "\n",
       "    .dataframe thead th {\n",
       "        text-align: right;\n",
       "    }\n",
       "</style>\n",
       "<table border=\"1\" class=\"dataframe\">\n",
       "  <thead>\n",
       "    <tr style=\"text-align: right;\">\n",
       "      <th></th>\n",
       "      <th>id_prod</th>\n",
       "      <th>date</th>\n",
       "      <th>session_id</th>\n",
       "      <th>client_id</th>\n",
       "      <th>price</th>\n",
       "      <th>categ</th>\n",
       "    </tr>\n",
       "  </thead>\n",
       "  <tbody>\n",
       "    <tr>\n",
       "      <th>336816</th>\n",
       "      <td>0_1016</td>\n",
       "      <td>NaT</td>\n",
       "      <td>NaN</td>\n",
       "      <td>NaN</td>\n",
       "      <td>35.06</td>\n",
       "      <td>0.0</td>\n",
       "    </tr>\n",
       "    <tr>\n",
       "      <th>336817</th>\n",
       "      <td>0_1780</td>\n",
       "      <td>NaT</td>\n",
       "      <td>NaN</td>\n",
       "      <td>NaN</td>\n",
       "      <td>1.67</td>\n",
       "      <td>0.0</td>\n",
       "    </tr>\n",
       "    <tr>\n",
       "      <th>336818</th>\n",
       "      <td>0_1062</td>\n",
       "      <td>NaT</td>\n",
       "      <td>NaN</td>\n",
       "      <td>NaN</td>\n",
       "      <td>20.08</td>\n",
       "      <td>0.0</td>\n",
       "    </tr>\n",
       "    <tr>\n",
       "      <th>336819</th>\n",
       "      <td>0_1119</td>\n",
       "      <td>NaT</td>\n",
       "      <td>NaN</td>\n",
       "      <td>NaN</td>\n",
       "      <td>2.99</td>\n",
       "      <td>0.0</td>\n",
       "    </tr>\n",
       "    <tr>\n",
       "      <th>336820</th>\n",
       "      <td>0_1014</td>\n",
       "      <td>NaT</td>\n",
       "      <td>NaN</td>\n",
       "      <td>NaN</td>\n",
       "      <td>1.15</td>\n",
       "      <td>0.0</td>\n",
       "    </tr>\n",
       "    <tr>\n",
       "      <th>336821</th>\n",
       "      <td>1_0</td>\n",
       "      <td>NaT</td>\n",
       "      <td>NaN</td>\n",
       "      <td>NaN</td>\n",
       "      <td>31.82</td>\n",
       "      <td>1.0</td>\n",
       "    </tr>\n",
       "    <tr>\n",
       "      <th>336822</th>\n",
       "      <td>0_1318</td>\n",
       "      <td>NaT</td>\n",
       "      <td>NaN</td>\n",
       "      <td>NaN</td>\n",
       "      <td>20.92</td>\n",
       "      <td>0.0</td>\n",
       "    </tr>\n",
       "    <tr>\n",
       "      <th>336823</th>\n",
       "      <td>0_1800</td>\n",
       "      <td>NaT</td>\n",
       "      <td>NaN</td>\n",
       "      <td>NaN</td>\n",
       "      <td>22.05</td>\n",
       "      <td>0.0</td>\n",
       "    </tr>\n",
       "    <tr>\n",
       "      <th>336824</th>\n",
       "      <td>0_1645</td>\n",
       "      <td>NaT</td>\n",
       "      <td>NaN</td>\n",
       "      <td>NaN</td>\n",
       "      <td>2.99</td>\n",
       "      <td>0.0</td>\n",
       "    </tr>\n",
       "    <tr>\n",
       "      <th>336825</th>\n",
       "      <td>0_322</td>\n",
       "      <td>NaT</td>\n",
       "      <td>NaN</td>\n",
       "      <td>NaN</td>\n",
       "      <td>2.99</td>\n",
       "      <td>0.0</td>\n",
       "    </tr>\n",
       "    <tr>\n",
       "      <th>336826</th>\n",
       "      <td>0_1620</td>\n",
       "      <td>NaT</td>\n",
       "      <td>NaN</td>\n",
       "      <td>NaN</td>\n",
       "      <td>0.80</td>\n",
       "      <td>0.0</td>\n",
       "    </tr>\n",
       "    <tr>\n",
       "      <th>336827</th>\n",
       "      <td>0_1025</td>\n",
       "      <td>NaT</td>\n",
       "      <td>NaN</td>\n",
       "      <td>NaN</td>\n",
       "      <td>24.99</td>\n",
       "      <td>0.0</td>\n",
       "    </tr>\n",
       "    <tr>\n",
       "      <th>336828</th>\n",
       "      <td>2_87</td>\n",
       "      <td>NaT</td>\n",
       "      <td>NaN</td>\n",
       "      <td>NaN</td>\n",
       "      <td>220.99</td>\n",
       "      <td>2.0</td>\n",
       "    </tr>\n",
       "    <tr>\n",
       "      <th>336829</th>\n",
       "      <td>1_394</td>\n",
       "      <td>NaT</td>\n",
       "      <td>NaN</td>\n",
       "      <td>NaN</td>\n",
       "      <td>39.73</td>\n",
       "      <td>1.0</td>\n",
       "    </tr>\n",
       "    <tr>\n",
       "      <th>336830</th>\n",
       "      <td>2_72</td>\n",
       "      <td>NaT</td>\n",
       "      <td>NaN</td>\n",
       "      <td>NaN</td>\n",
       "      <td>141.32</td>\n",
       "      <td>2.0</td>\n",
       "    </tr>\n",
       "    <tr>\n",
       "      <th>336831</th>\n",
       "      <td>0_310</td>\n",
       "      <td>NaT</td>\n",
       "      <td>NaN</td>\n",
       "      <td>NaN</td>\n",
       "      <td>1.94</td>\n",
       "      <td>0.0</td>\n",
       "    </tr>\n",
       "    <tr>\n",
       "      <th>336832</th>\n",
       "      <td>0_1624</td>\n",
       "      <td>NaT</td>\n",
       "      <td>NaN</td>\n",
       "      <td>NaN</td>\n",
       "      <td>24.50</td>\n",
       "      <td>0.0</td>\n",
       "    </tr>\n",
       "    <tr>\n",
       "      <th>336833</th>\n",
       "      <td>0_525</td>\n",
       "      <td>NaT</td>\n",
       "      <td>NaN</td>\n",
       "      <td>NaN</td>\n",
       "      <td>2.99</td>\n",
       "      <td>0.0</td>\n",
       "    </tr>\n",
       "    <tr>\n",
       "      <th>336834</th>\n",
       "      <td>2_86</td>\n",
       "      <td>NaT</td>\n",
       "      <td>NaN</td>\n",
       "      <td>NaN</td>\n",
       "      <td>132.36</td>\n",
       "      <td>2.0</td>\n",
       "    </tr>\n",
       "    <tr>\n",
       "      <th>336835</th>\n",
       "      <td>0_299</td>\n",
       "      <td>NaT</td>\n",
       "      <td>NaN</td>\n",
       "      <td>NaN</td>\n",
       "      <td>22.99</td>\n",
       "      <td>0.0</td>\n",
       "    </tr>\n",
       "    <tr>\n",
       "      <th>336836</th>\n",
       "      <td>0_510</td>\n",
       "      <td>NaT</td>\n",
       "      <td>NaN</td>\n",
       "      <td>NaN</td>\n",
       "      <td>23.66</td>\n",
       "      <td>0.0</td>\n",
       "    </tr>\n",
       "    <tr>\n",
       "      <th>336837</th>\n",
       "      <td>0_2308</td>\n",
       "      <td>NaT</td>\n",
       "      <td>NaN</td>\n",
       "      <td>NaN</td>\n",
       "      <td>20.28</td>\n",
       "      <td>0.0</td>\n",
       "    </tr>\n",
       "  </tbody>\n",
       "</table>\n",
       "</div>"
      ],
      "text/plain": [
       "       id_prod date session_id client_id   price  categ\n",
       "336816  0_1016  NaT        NaN       NaN   35.06    0.0\n",
       "336817  0_1780  NaT        NaN       NaN    1.67    0.0\n",
       "336818  0_1062  NaT        NaN       NaN   20.08    0.0\n",
       "336819  0_1119  NaT        NaN       NaN    2.99    0.0\n",
       "336820  0_1014  NaT        NaN       NaN    1.15    0.0\n",
       "336821     1_0  NaT        NaN       NaN   31.82    1.0\n",
       "336822  0_1318  NaT        NaN       NaN   20.92    0.0\n",
       "336823  0_1800  NaT        NaN       NaN   22.05    0.0\n",
       "336824  0_1645  NaT        NaN       NaN    2.99    0.0\n",
       "336825   0_322  NaT        NaN       NaN    2.99    0.0\n",
       "336826  0_1620  NaT        NaN       NaN    0.80    0.0\n",
       "336827  0_1025  NaT        NaN       NaN   24.99    0.0\n",
       "336828    2_87  NaT        NaN       NaN  220.99    2.0\n",
       "336829   1_394  NaT        NaN       NaN   39.73    1.0\n",
       "336830    2_72  NaT        NaN       NaN  141.32    2.0\n",
       "336831   0_310  NaT        NaN       NaN    1.94    0.0\n",
       "336832  0_1624  NaT        NaN       NaN   24.50    0.0\n",
       "336833   0_525  NaT        NaN       NaN    2.99    0.0\n",
       "336834    2_86  NaT        NaN       NaN  132.36    2.0\n",
       "336835   0_299  NaT        NaN       NaN   22.99    0.0\n",
       "336836   0_510  NaT        NaN       NaN   23.66    0.0\n",
       "336837  0_2308  NaT        NaN       NaN   20.28    0.0"
      ]
     },
     "execution_count": 37,
     "metadata": {},
     "output_type": "execute_result"
    }
   ],
   "source": [
    "df = transactions.merge(products, how = 'outer', on = 'id_prod')\n",
    "df[df['client_id'].isna()]"
   ]
  },
  {
   "cell_type": "markdown",
   "metadata": {},
   "source": [
    "Nous avons 22 produits qui n'ont jamais été achetés sur le site."
   ]
  },
  {
   "cell_type": "code",
   "execution_count": 38,
   "metadata": {},
   "outputs": [
    {
     "data": {
      "text/plain": [
       "\"il y a 3264 clients soit 23 de moins que dans le fichiers Customers - les 2 clients Test et les 21 clients n'ayant jamais achetés sur le site\""
      ]
     },
     "execution_count": 38,
     "metadata": {},
     "output_type": "execute_result"
    }
   ],
   "source": [
    "f\"il y a {df_transactions.drop_duplicates('id_prod')['id_prod'].count()} clients soit 23 de moins que dans le fichiers Customers - les 2 clients Test et les 21 clients n'ayant jamais achetés sur le site\""
   ]
  },
  {
   "cell_type": "code",
   "execution_count": 39,
   "metadata": {},
   "outputs": [
    {
     "data": {
      "text/html": [
       "<div>\n",
       "<style scoped>\n",
       "    .dataframe tbody tr th:only-of-type {\n",
       "        vertical-align: middle;\n",
       "    }\n",
       "\n",
       "    .dataframe tbody tr th {\n",
       "        vertical-align: top;\n",
       "    }\n",
       "\n",
       "    .dataframe thead th {\n",
       "        text-align: right;\n",
       "    }\n",
       "</style>\n",
       "<table border=\"1\" class=\"dataframe\">\n",
       "  <thead>\n",
       "    <tr style=\"text-align: right;\">\n",
       "      <th></th>\n",
       "      <th>id_prod</th>\n",
       "      <th>date</th>\n",
       "      <th>session_id</th>\n",
       "      <th>client_id</th>\n",
       "    </tr>\n",
       "  </thead>\n",
       "  <tbody>\n",
       "    <tr>\n",
       "      <th>6235</th>\n",
       "      <td>0_2245</td>\n",
       "      <td>2021-06-17 03:03:12.668129</td>\n",
       "      <td>s_49705</td>\n",
       "      <td>c_1533</td>\n",
       "    </tr>\n",
       "  </tbody>\n",
       "</table>\n",
       "</div>"
      ],
      "text/plain": [
       "     id_prod                       date session_id client_id\n",
       "6235  0_2245 2021-06-17 03:03:12.668129    s_49705    c_1533"
      ]
     },
     "execution_count": 39,
     "metadata": {},
     "output_type": "execute_result"
    }
   ],
   "source": [
    "transactions[~transactions['id_prod'].isin(products['id_prod'].drop_duplicates())].drop_duplicates('id_prod')"
   ]
  },
  {
   "cell_type": "markdown",
   "metadata": {},
   "source": [
    "Nous avons un produit qui n'est pas référencé dans la table *product*"
   ]
  },
  {
   "cell_type": "code",
   "execution_count": 40,
   "metadata": {},
   "outputs": [
    {
     "data": {
      "text/html": [
       "<div>\n",
       "<style scoped>\n",
       "    .dataframe tbody tr th:only-of-type {\n",
       "        vertical-align: middle;\n",
       "    }\n",
       "\n",
       "    .dataframe tbody tr th {\n",
       "        vertical-align: top;\n",
       "    }\n",
       "\n",
       "    .dataframe thead th {\n",
       "        text-align: right;\n",
       "    }\n",
       "</style>\n",
       "<table border=\"1\" class=\"dataframe\">\n",
       "  <thead>\n",
       "    <tr style=\"text-align: right;\">\n",
       "      <th></th>\n",
       "      <th>id_prod</th>\n",
       "      <th>date</th>\n",
       "      <th>session_id</th>\n",
       "      <th>client_id</th>\n",
       "    </tr>\n",
       "  </thead>\n",
       "  <tbody>\n",
       "    <tr>\n",
       "      <th>6235</th>\n",
       "      <td>0_2245</td>\n",
       "      <td>2021-06-17 03:03:12.668129</td>\n",
       "      <td>s_49705</td>\n",
       "      <td>c_1533</td>\n",
       "    </tr>\n",
       "    <tr>\n",
       "      <th>10802</th>\n",
       "      <td>0_2245</td>\n",
       "      <td>2021-06-16 05:53:01.627491</td>\n",
       "      <td>s_49323</td>\n",
       "      <td>c_7954</td>\n",
       "    </tr>\n",
       "    <tr>\n",
       "      <th>14051</th>\n",
       "      <td>0_2245</td>\n",
       "      <td>2021-11-24 17:35:59.911427</td>\n",
       "      <td>s_124474</td>\n",
       "      <td>c_5120</td>\n",
       "    </tr>\n",
       "    <tr>\n",
       "      <th>17486</th>\n",
       "      <td>0_2245</td>\n",
       "      <td>2022-02-28 18:08:49.875709</td>\n",
       "      <td>s_172304</td>\n",
       "      <td>c_4964</td>\n",
       "    </tr>\n",
       "    <tr>\n",
       "      <th>21078</th>\n",
       "      <td>0_2245</td>\n",
       "      <td>2021-03-01 00:09:29.301897</td>\n",
       "      <td>s_3</td>\n",
       "      <td>c_580</td>\n",
       "    </tr>\n",
       "    <tr>\n",
       "      <th>...</th>\n",
       "      <td>...</td>\n",
       "      <td>...</td>\n",
       "      <td>...</td>\n",
       "      <td>...</td>\n",
       "    </tr>\n",
       "    <tr>\n",
       "      <th>322710</th>\n",
       "      <td>0_2245</td>\n",
       "      <td>2021-04-06 19:59:19.462288</td>\n",
       "      <td>s_16936</td>\n",
       "      <td>c_4167</td>\n",
       "    </tr>\n",
       "    <tr>\n",
       "      <th>329417</th>\n",
       "      <td>0_2245</td>\n",
       "      <td>2021-03-30 23:29:02.347672</td>\n",
       "      <td>s_13738</td>\n",
       "      <td>c_7790</td>\n",
       "    </tr>\n",
       "    <tr>\n",
       "      <th>330490</th>\n",
       "      <td>0_2245</td>\n",
       "      <td>2021-12-03 14:14:40.444177</td>\n",
       "      <td>s_128815</td>\n",
       "      <td>c_6189</td>\n",
       "    </tr>\n",
       "    <tr>\n",
       "      <th>335531</th>\n",
       "      <td>0_2245</td>\n",
       "      <td>2021-04-27 18:58:47.703374</td>\n",
       "      <td>s_26624</td>\n",
       "      <td>c_1595</td>\n",
       "    </tr>\n",
       "    <tr>\n",
       "      <th>336220</th>\n",
       "      <td>0_2245</td>\n",
       "      <td>2021-05-01 03:35:03.146305</td>\n",
       "      <td>s_28235</td>\n",
       "      <td>c_5714</td>\n",
       "    </tr>\n",
       "  </tbody>\n",
       "</table>\n",
       "<p>103 rows × 4 columns</p>\n",
       "</div>"
      ],
      "text/plain": [
       "       id_prod                       date session_id client_id\n",
       "6235    0_2245 2021-06-17 03:03:12.668129    s_49705    c_1533\n",
       "10802   0_2245 2021-06-16 05:53:01.627491    s_49323    c_7954\n",
       "14051   0_2245 2021-11-24 17:35:59.911427   s_124474    c_5120\n",
       "17486   0_2245 2022-02-28 18:08:49.875709   s_172304    c_4964\n",
       "21078   0_2245 2021-03-01 00:09:29.301897        s_3     c_580\n",
       "...        ...                        ...        ...       ...\n",
       "322710  0_2245 2021-04-06 19:59:19.462288    s_16936    c_4167\n",
       "329417  0_2245 2021-03-30 23:29:02.347672    s_13738    c_7790\n",
       "330490  0_2245 2021-12-03 14:14:40.444177   s_128815    c_6189\n",
       "335531  0_2245 2021-04-27 18:58:47.703374    s_26624    c_1595\n",
       "336220  0_2245 2021-05-01 03:35:03.146305    s_28235    c_5714\n",
       "\n",
       "[103 rows x 4 columns]"
      ]
     },
     "execution_count": 40,
     "metadata": {},
     "output_type": "execute_result"
    }
   ],
   "source": [
    "transactions[~transactions['id_prod'].isin(products['id_prod'].drop_duplicates())]"
   ]
  },
  {
   "cell_type": "markdown",
   "metadata": {},
   "source": [
    "Il y a une différence de 303 transactions entre le fichiers transactions et le data Frame - 200 des transactions tests et 103 du produit 0_2245 non référencé dans le fichiers *Product*"
   ]
  },
  {
   "cell_type": "code",
   "execution_count": 41,
   "metadata": {},
   "outputs": [
    {
     "data": {
      "text/html": [
       "<div>\n",
       "<style scoped>\n",
       "    .dataframe tbody tr th:only-of-type {\n",
       "        vertical-align: middle;\n",
       "    }\n",
       "\n",
       "    .dataframe tbody tr th {\n",
       "        vertical-align: top;\n",
       "    }\n",
       "\n",
       "    .dataframe thead th {\n",
       "        text-align: right;\n",
       "    }\n",
       "</style>\n",
       "<table border=\"1\" class=\"dataframe\">\n",
       "  <thead>\n",
       "    <tr style=\"text-align: right;\">\n",
       "      <th></th>\n",
       "      <th>id_prod</th>\n",
       "      <th>date</th>\n",
       "      <th>session_id</th>\n",
       "      <th>client_id</th>\n",
       "    </tr>\n",
       "  </thead>\n",
       "  <tbody>\n",
       "  </tbody>\n",
       "</table>\n",
       "</div>"
      ],
      "text/plain": [
       "Empty DataFrame\n",
       "Columns: [id_prod, date, session_id, client_id]\n",
       "Index: []"
      ]
     },
     "execution_count": 41,
     "metadata": {},
     "output_type": "execute_result"
    }
   ],
   "source": [
    "transactions[~transactions['client_id'].isin(customers['client_id'].drop_duplicates())]"
   ]
  },
  {
   "cell_type": "markdown",
   "metadata": {},
   "source": [
    "Tous les clients dans la table *transactions* sont référencés dans la table *customers*"
   ]
  },
  {
   "cell_type": "markdown",
   "metadata": {},
   "source": [
    "### B. Création de nouvelles colonnes"
   ]
  },
  {
   "cell_type": "markdown",
   "metadata": {},
   "source": [
    "Maintenant, nous allons rajouter les colonnes suivantes :\n",
    "   * 'age', \n",
    "   * 'cat_age', \n",
    "   * 'cat_price', \n",
    "   * 'weekday', \n",
    "   * 'daytime', \n",
    "   * 'month', \n",
    "   * 'week', \n",
    "   * 'year'"
   ]
  },
  {
   "cell_type": "code",
   "execution_count": 42,
   "metadata": {},
   "outputs": [],
   "source": [
    "df_transactions['age'] = df_transactions['date'].dt.year - df_transactions['birth']"
   ]
  },
  {
   "cell_type": "markdown",
   "metadata": {},
   "source": [
    "Au vue de la répartion des ages vue dans la partie 5.A sur l'analyse des ages, nous allons créer 3 catégorie d'age ; de 18 à 29 ans, de 30 à 59 ans et de 60 à 90 ans, mais également une autre répartition pour affiner nos recherches de corrélation"
   ]
  },
  {
   "cell_type": "code",
   "execution_count": 43,
   "metadata": {},
   "outputs": [],
   "source": [
    "df_transactions['cat_age'] = pd.cut(x = df_transactions['age'], bins = [0, 29, 59, 99], labels = [1, 2, 3])"
   ]
  },
  {
   "cell_type": "code",
   "execution_count": 44,
   "metadata": {},
   "outputs": [],
   "source": [
    "df_transactions['cat_age_2'] = pd.cut(x = df_transactions['age'], bins = [0, 30, 49, 99], labels = [1, 2, 3])"
   ]
  },
  {
   "cell_type": "markdown",
   "metadata": {},
   "source": [
    "Au vue de la répartiton des prix vue dans la partie 5.B sur l'analyse des prix, nous allons créer 3 catégorie de prix ; de 0 à 4.99, de 5 à 19.99 et de 20 à 300."
   ]
  },
  {
   "cell_type": "code",
   "execution_count": 45,
   "metadata": {},
   "outputs": [],
   "source": [
    "df_transactions['cat_price'] = pd.cut(x = df_transactions['price'], bins = [0, 4.99, 19.99, 300], labels = [1, 2, 3])"
   ]
  },
  {
   "cell_type": "code",
   "execution_count": 46,
   "metadata": {},
   "outputs": [],
   "source": [
    "df_transactions['weekday'] = df_transactions['date'].dt.dayofweek"
   ]
  },
  {
   "cell_type": "code",
   "execution_count": 47,
   "metadata": {},
   "outputs": [],
   "source": [
    "df_transactions['daytime'] = df_transactions['date'].dt.hour"
   ]
  },
  {
   "cell_type": "code",
   "execution_count": 48,
   "metadata": {},
   "outputs": [],
   "source": [
    "df_transactions['month'] = df_transactions['date'].dt.month"
   ]
  },
  {
   "cell_type": "code",
   "execution_count": 49,
   "metadata": {},
   "outputs": [],
   "source": [
    "df_transactions['week'] = df_transactions['date'].dt.week"
   ]
  },
  {
   "cell_type": "code",
   "execution_count": 50,
   "metadata": {},
   "outputs": [],
   "source": [
    "df_transactions['year'] = df_transactions['date'].dt.year"
   ]
  },
  {
   "cell_type": "markdown",
   "metadata": {},
   "source": [
    "Nous faisons une copie du fichier avant de supprimer les semaines 39 à 43 : "
   ]
  },
  {
   "cell_type": "code",
   "execution_count": 51,
   "metadata": {},
   "outputs": [],
   "source": [
    "df_transactions_old = df_transactions.copy()\n",
    "df_transactions = df_transactions[~df_transactions['week'].between(39,43)]"
   ]
  },
  {
   "cell_type": "markdown",
   "metadata": {},
   "source": [
    "Ensuite, nous allons calculer les colonnes suivantes pour regrouper dans chaque lignes les informations des sessions :\n",
    "   * le montant de la session (session_amount), \n",
    "   * le nombre de produit par session (session_nb_produit)\n",
    "   * la moyenne des *categ* de la session (session_categ_mean)"
   ]
  },
  {
   "cell_type": "code",
   "execution_count": 52,
   "metadata": {},
   "outputs": [],
   "source": [
    "df_transactions = df_transactions.merge(df_transactions.groupby('session_id')['price'].sum().reset_index(name = 'session_amount'), how='left', on='session_id')"
   ]
  },
  {
   "cell_type": "code",
   "execution_count": 53,
   "metadata": {},
   "outputs": [],
   "source": [
    "df_transactions = df_transactions.merge(df_transactions.groupby('session_id')['id_prod'].count().reset_index(name = 'session_nb_produit'), how='left', on='session_id')"
   ]
  },
  {
   "cell_type": "code",
   "execution_count": 54,
   "metadata": {},
   "outputs": [],
   "source": [
    "df_transactions = df_transactions.merge(df_transactions.groupby('session_id')['categ'].mean().reset_index(name = 'session_categ_mean'), how='left', on='session_id')"
   ]
  },
  {
   "cell_type": "markdown",
   "metadata": {},
   "source": [
    "Nous allons créer les colonnes des habitudes d'achats des clients : \n",
    "   * le nombre de session d'achat fait par le client (nombre_achat_client), \n",
    "   * les 4 catégories du nombre de session d'achat des clients par quartile (cat_nb_achat), \n",
    "   * le nombre de livre acheté par le client (nombre_livre_client), \n",
    "   * le montant total d'achat (montant_total), \n",
    "   * le rang du client en fonction du total de ses achats (montant_total_rang), \n",
    "   * les 4 catégories du montant d'achat total des clients par quartile (cat_montant_total),\n",
    "   * la taille moyenne de son panier (session_nb_produit_mean), \n",
    "   * la taille moyenne de son panier arrondi (session_nb_produit_mean_rounded),\n",
    "   * le montant moyen de son panier (session_amount_mean),\n",
    "   * la moyenne *categ* (categ_mean), \n",
    "   * la fréquence d'achat par mois (freq_achat_mean_rounded),\n",
    "   * la fréquence d'achat par mois arrondi (freq_achat_mean),\n",
    "   * le rapport entre nombre_livre_client et montant_total (norm_prix/livre)\n",
    "   * le boléen pour les clients ayant achetés plus de deux fois le même livre (bookstore)"
   ]
  },
  {
   "cell_type": "code",
   "execution_count": 55,
   "metadata": {},
   "outputs": [],
   "source": [
    "df_client = df_transactions.drop_duplicates('session_id').groupby('client_id')"
   ]
  },
  {
   "cell_type": "code",
   "execution_count": 56,
   "metadata": {},
   "outputs": [],
   "source": [
    "df_transactions = df_transactions.merge(df_client.count()['id_prod'].reset_index(name = 'nombre_achat_client'), how='left', on='client_id')"
   ]
  },
  {
   "cell_type": "code",
   "execution_count": 57,
   "metadata": {},
   "outputs": [],
   "source": [
    "df_transactions['cat_nb_achat'] = pd.cut(x = df_transactions['nombre_achat_client'], bins = [0, df_transactions.quantile(0.25)['nombre_achat_client'], df_transactions.quantile(0.5)['nombre_achat_client'], df_transactions.quantile(0.75)['nombre_achat_client'], df_transactions.quantile(1)['nombre_achat_client']], labels = [1, 2, 3, 4])"
   ]
  },
  {
   "cell_type": "code",
   "execution_count": 58,
   "metadata": {},
   "outputs": [],
   "source": [
    "df_transactions = df_transactions.merge(df_transactions.groupby('client_id').count()['id_prod'].reset_index(name = 'nombre_livre_client'), how='left', on='client_id')"
   ]
  },
  {
   "cell_type": "code",
   "execution_count": 59,
   "metadata": {},
   "outputs": [],
   "source": [
    "df_transactions = df_transactions.merge(df_client.sum()['session_amount'].reset_index(name = 'montant_total'), how='left', on='client_id')"
   ]
  },
  {
   "cell_type": "code",
   "execution_count": 60,
   "metadata": {},
   "outputs": [],
   "source": [
    "df_transactions = df_transactions.merge(df_client.sum()['session_amount'].rank(ascending = False).reset_index(name = 'montant_total_rang'), how='left', on='client_id')"
   ]
  },
  {
   "cell_type": "code",
   "execution_count": 61,
   "metadata": {},
   "outputs": [],
   "source": [
    "df_transactions['cat_montant_total'] = pd.cut(x = df_transactions['montant_total'], bins = [0, df_transactions.quantile(0.25)['montant_total'], df_transactions.quantile(0.5)['montant_total'], df_transactions.quantile(0.75)['montant_total'], df_transactions.quantile(1)['montant_total']], labels = [1, 2, 3, 4])"
   ]
  },
  {
   "cell_type": "code",
   "execution_count": 62,
   "metadata": {},
   "outputs": [],
   "source": [
    "df_transactions = df_transactions.merge(df_client.mean()['session_nb_produit'].reset_index(name = 'session_nb_produit_mean'), how='left', on='client_id')"
   ]
  },
  {
   "cell_type": "code",
   "execution_count": 63,
   "metadata": {},
   "outputs": [],
   "source": [
    "df_transactions = df_transactions.merge(df_client.mean()['session_amount'].reset_index(name = 'session_amount_mean'), how='left', on='client_id')"
   ]
  },
  {
   "cell_type": "code",
   "execution_count": 64,
   "metadata": {},
   "outputs": [],
   "source": [
    "df_transactions['session_nb_produit_mean_rounded'] = round(df_transactions['session_nb_produit_mean'])"
   ]
  },
  {
   "cell_type": "code",
   "execution_count": 65,
   "metadata": {},
   "outputs": [],
   "source": [
    "df_transactions = df_transactions.merge(df_client.mean()['categ'].reset_index(name = 'categ_mean'), how='left', on='client_id')"
   ]
  },
  {
   "cell_type": "code",
   "execution_count": 66,
   "metadata": {},
   "outputs": [],
   "source": [
    "df_transactions = df_transactions.merge(((df_transactions.drop_duplicates('session_id').groupby(['month', 'client_id']).count()['price']).unstack().fillna(0).sum()/12).reset_index(name = 'freq_achat_mean'), how='left', on='client_id')"
   ]
  },
  {
   "cell_type": "code",
   "execution_count": 67,
   "metadata": {},
   "outputs": [],
   "source": [
    "df_transactions['freq_achat_mean_rounded'] = round(df_transactions['freq_achat_mean'])"
   ]
  },
  {
   "cell_type": "code",
   "execution_count": 68,
   "metadata": {},
   "outputs": [],
   "source": [
    "df_transactions['norm_prix/livre'] = df_transactions['montant_total']/df_transactions['nombre_livre_client']"
   ]
  },
  {
   "cell_type": "code",
   "execution_count": 69,
   "metadata": {
    "scrolled": true
   },
   "outputs": [],
   "source": [
    "df = df_transactions.groupby(['id_prod', 'client_id']).count()['price']\n",
    "df_transactions['bookstore'] = 0\n",
    "df_transactions.loc[df_transactions['client_id'].isin(df[(df > 2)].unstack().columns), 'bookstore'] = 1"
   ]
  },
  {
   "cell_type": "markdown",
   "metadata": {},
   "source": [
    "Nous allons créer les colonnes pour les livres : \n",
    "   * le nombre de livre vendu en terme de vente (book_total_sold), \n",
    "   * le rang du livre en terme de vente (book_rank_sold), \n",
    "   * le montant total pour ce livre (book_total_price),\n",
    "   * le rang du livre en terme de montant (book_rank_price)"
   ]
  },
  {
   "cell_type": "code",
   "execution_count": 70,
   "metadata": {},
   "outputs": [],
   "source": [
    "df_transactions = df_transactions.merge(df_transactions.groupby('id_prod').count()['price'].reset_index(name = 'book_total_sold'), how='left', on='id_prod')"
   ]
  },
  {
   "cell_type": "code",
   "execution_count": 71,
   "metadata": {},
   "outputs": [],
   "source": [
    "df_transactions = df_transactions.merge(df_transactions.groupby('id_prod').count()['price'].rank(ascending = False).reset_index(name = 'book_rank_sold'), how='left', on='id_prod')"
   ]
  },
  {
   "cell_type": "code",
   "execution_count": 72,
   "metadata": {},
   "outputs": [],
   "source": [
    "df_transactions = df_transactions.merge(df_transactions.groupby('id_prod').sum()['price'].reset_index(name = 'book_total_price'), how='left', on='id_prod')"
   ]
  },
  {
   "cell_type": "code",
   "execution_count": 73,
   "metadata": {},
   "outputs": [],
   "source": [
    "df_transactions = df_transactions.merge(df_transactions.groupby('id_prod').sum()['price'].rank(ascending = False).reset_index(name = 'book_rank_price'), how='left', on='id_prod')"
   ]
  },
  {
   "cell_type": "markdown",
   "metadata": {},
   "source": [
    "Nous allons créer une colonne pour avoir une *categ* normalisée par rapport au nombre de clients dans chaque age et chaque catégorie d'age"
   ]
  },
  {
   "cell_type": "code",
   "execution_count": 74,
   "metadata": {},
   "outputs": [],
   "source": [
    "df_transactions['norm_categ_cat_age'] = 99\n",
    "for i in range(3):\n",
    "    for j in range (1,4):\n",
    "        filt = (df_transactions['categ'] == i) & (df_transactions['cat_age'] == j)\n",
    "        norm = 10000 / df_transactions[filt]['categ'].count()\n",
    "        df_transactions.loc[filt, 'norm_categ_cat_age'] = norm"
   ]
  },
  {
   "cell_type": "markdown",
   "metadata": {},
   "source": [
    "### C. Test Unitaire"
   ]
  },
  {
   "cell_type": "code",
   "execution_count": 75,
   "metadata": {},
   "outputs": [
    {
     "data": {
      "text/html": [
       "<div>\n",
       "<style scoped>\n",
       "    .dataframe tbody tr th:only-of-type {\n",
       "        vertical-align: middle;\n",
       "    }\n",
       "\n",
       "    .dataframe tbody tr th {\n",
       "        vertical-align: top;\n",
       "    }\n",
       "\n",
       "    .dataframe thead th {\n",
       "        text-align: right;\n",
       "    }\n",
       "</style>\n",
       "<table border=\"1\" class=\"dataframe\">\n",
       "  <thead>\n",
       "    <tr style=\"text-align: right;\">\n",
       "      <th></th>\n",
       "      <th>id_prod</th>\n",
       "      <th>date</th>\n",
       "      <th>session_id</th>\n",
       "      <th>client_id</th>\n",
       "      <th>sex</th>\n",
       "      <th>birth</th>\n",
       "      <th>price</th>\n",
       "      <th>categ</th>\n",
       "      <th>age</th>\n",
       "      <th>cat_age</th>\n",
       "      <th>...</th>\n",
       "      <th>categ_mean</th>\n",
       "      <th>freq_achat_mean</th>\n",
       "      <th>freq_achat_mean_rounded</th>\n",
       "      <th>norm_prix/livre</th>\n",
       "      <th>bookstore</th>\n",
       "      <th>book_total_sold</th>\n",
       "      <th>book_rank_sold</th>\n",
       "      <th>book_total_price</th>\n",
       "      <th>book_rank_price</th>\n",
       "      <th>norm_categ_cat_age</th>\n",
       "    </tr>\n",
       "  </thead>\n",
       "  <tbody>\n",
       "    <tr>\n",
       "      <th>356</th>\n",
       "      <td>1_596</td>\n",
       "      <td>2021-03-23 02:04:33.255471</td>\n",
       "      <td>s_10146</td>\n",
       "      <td>c_1609</td>\n",
       "      <td>m</td>\n",
       "      <td>1980</td>\n",
       "      <td>11.12</td>\n",
       "      <td>1</td>\n",
       "      <td>41</td>\n",
       "      <td>2</td>\n",
       "      <td>...</td>\n",
       "      <td>0.267979</td>\n",
       "      <td>414.833333</td>\n",
       "      <td>415.0</td>\n",
       "      <td>12.743842</td>\n",
       "      <td>1</td>\n",
       "      <td>128</td>\n",
       "      <td>737.0</td>\n",
       "      <td>1423.36</td>\n",
       "      <td>863.0</td>\n",
       "      <td>0.141651</td>\n",
       "    </tr>\n",
       "    <tr>\n",
       "      <th>27309</th>\n",
       "      <td>0_1531</td>\n",
       "      <td>2021-03-23 01:24:23.364443</td>\n",
       "      <td>s_10146</td>\n",
       "      <td>c_1609</td>\n",
       "      <td>m</td>\n",
       "      <td>1980</td>\n",
       "      <td>6.99</td>\n",
       "      <td>0</td>\n",
       "      <td>41</td>\n",
       "      <td>2</td>\n",
       "      <td>...</td>\n",
       "      <td>0.267979</td>\n",
       "      <td>414.833333</td>\n",
       "      <td>415.0</td>\n",
       "      <td>12.743842</td>\n",
       "      <td>1</td>\n",
       "      <td>271</td>\n",
       "      <td>377.0</td>\n",
       "      <td>1894.29</td>\n",
       "      <td>697.0</td>\n",
       "      <td>0.061403</td>\n",
       "    </tr>\n",
       "    <tr>\n",
       "      <th>39074</th>\n",
       "      <td>0_1625</td>\n",
       "      <td>2021-03-23 01:54:07.379708</td>\n",
       "      <td>s_10146</td>\n",
       "      <td>c_1609</td>\n",
       "      <td>m</td>\n",
       "      <td>1980</td>\n",
       "      <td>5.99</td>\n",
       "      <td>0</td>\n",
       "      <td>41</td>\n",
       "      <td>2</td>\n",
       "      <td>...</td>\n",
       "      <td>0.267979</td>\n",
       "      <td>414.833333</td>\n",
       "      <td>415.0</td>\n",
       "      <td>12.743842</td>\n",
       "      <td>1</td>\n",
       "      <td>305</td>\n",
       "      <td>325.5</td>\n",
       "      <td>1826.95</td>\n",
       "      <td>725.0</td>\n",
       "      <td>0.061403</td>\n",
       "    </tr>\n",
       "    <tr>\n",
       "      <th>106901</th>\n",
       "      <td>0_2178</td>\n",
       "      <td>2021-03-23 01:48:54.440912</td>\n",
       "      <td>s_10146</td>\n",
       "      <td>c_1609</td>\n",
       "      <td>m</td>\n",
       "      <td>1980</td>\n",
       "      <td>9.22</td>\n",
       "      <td>0</td>\n",
       "      <td>41</td>\n",
       "      <td>2</td>\n",
       "      <td>...</td>\n",
       "      <td>0.267979</td>\n",
       "      <td>414.833333</td>\n",
       "      <td>415.0</td>\n",
       "      <td>12.743842</td>\n",
       "      <td>1</td>\n",
       "      <td>73</td>\n",
       "      <td>1031.0</td>\n",
       "      <td>673.06</td>\n",
       "      <td>1309.0</td>\n",
       "      <td>0.061403</td>\n",
       "    </tr>\n",
       "    <tr>\n",
       "      <th>204027</th>\n",
       "      <td>0_1097</td>\n",
       "      <td>2021-03-23 01:22:08.479945</td>\n",
       "      <td>s_10146</td>\n",
       "      <td>c_1609</td>\n",
       "      <td>m</td>\n",
       "      <td>1980</td>\n",
       "      <td>11.99</td>\n",
       "      <td>0</td>\n",
       "      <td>41</td>\n",
       "      <td>2</td>\n",
       "      <td>...</td>\n",
       "      <td>0.267979</td>\n",
       "      <td>414.833333</td>\n",
       "      <td>415.0</td>\n",
       "      <td>12.743842</td>\n",
       "      <td>1</td>\n",
       "      <td>254</td>\n",
       "      <td>410.5</td>\n",
       "      <td>3045.46</td>\n",
       "      <td>472.0</td>\n",
       "      <td>0.061403</td>\n",
       "    </tr>\n",
       "    <tr>\n",
       "      <th>272214</th>\n",
       "      <td>0_992</td>\n",
       "      <td>2021-03-23 01:50:53.119885</td>\n",
       "      <td>s_10146</td>\n",
       "      <td>c_1609</td>\n",
       "      <td>m</td>\n",
       "      <td>1980</td>\n",
       "      <td>8.58</td>\n",
       "      <td>0</td>\n",
       "      <td>41</td>\n",
       "      <td>2</td>\n",
       "      <td>...</td>\n",
       "      <td>0.267979</td>\n",
       "      <td>414.833333</td>\n",
       "      <td>415.0</td>\n",
       "      <td>12.743842</td>\n",
       "      <td>1</td>\n",
       "      <td>177</td>\n",
       "      <td>580.5</td>\n",
       "      <td>1518.66</td>\n",
       "      <td>826.0</td>\n",
       "      <td>0.061403</td>\n",
       "    </tr>\n",
       "  </tbody>\n",
       "</table>\n",
       "<p>6 rows × 39 columns</p>\n",
       "</div>"
      ],
      "text/plain": [
       "       id_prod                       date session_id client_id sex  birth  \\\n",
       "356      1_596 2021-03-23 02:04:33.255471    s_10146    c_1609   m   1980   \n",
       "27309   0_1531 2021-03-23 01:24:23.364443    s_10146    c_1609   m   1980   \n",
       "39074   0_1625 2021-03-23 01:54:07.379708    s_10146    c_1609   m   1980   \n",
       "106901  0_2178 2021-03-23 01:48:54.440912    s_10146    c_1609   m   1980   \n",
       "204027  0_1097 2021-03-23 01:22:08.479945    s_10146    c_1609   m   1980   \n",
       "272214   0_992 2021-03-23 01:50:53.119885    s_10146    c_1609   m   1980   \n",
       "\n",
       "        price  categ  age cat_age  ... categ_mean freq_achat_mean  \\\n",
       "356     11.12      1   41       2  ...   0.267979      414.833333   \n",
       "27309    6.99      0   41       2  ...   0.267979      414.833333   \n",
       "39074    5.99      0   41       2  ...   0.267979      414.833333   \n",
       "106901   9.22      0   41       2  ...   0.267979      414.833333   \n",
       "204027  11.99      0   41       2  ...   0.267979      414.833333   \n",
       "272214   8.58      0   41       2  ...   0.267979      414.833333   \n",
       "\n",
       "        freq_achat_mean_rounded  norm_prix/livre  bookstore  book_total_sold  \\\n",
       "356                       415.0        12.743842          1              128   \n",
       "27309                     415.0        12.743842          1              271   \n",
       "39074                     415.0        12.743842          1              305   \n",
       "106901                    415.0        12.743842          1               73   \n",
       "204027                    415.0        12.743842          1              254   \n",
       "272214                    415.0        12.743842          1              177   \n",
       "\n",
       "        book_rank_sold  book_total_price  book_rank_price  norm_categ_cat_age  \n",
       "356              737.0           1423.36            863.0            0.141651  \n",
       "27309            377.0           1894.29            697.0            0.061403  \n",
       "39074            325.5           1826.95            725.0            0.061403  \n",
       "106901          1031.0            673.06           1309.0            0.061403  \n",
       "204027           410.5           3045.46            472.0            0.061403  \n",
       "272214           580.5           1518.66            826.0            0.061403  \n",
       "\n",
       "[6 rows x 39 columns]"
      ]
     },
     "execution_count": 75,
     "metadata": {},
     "output_type": "execute_result"
    }
   ],
   "source": [
    "df_transactions[df_transactions['session_id'] == 's_10146']"
   ]
  },
  {
   "cell_type": "markdown",
   "metadata": {},
   "source": [
    "Nous testons, pour une sessions, si les valeurs calculer sont correctes. Nous avons bien 6 produits, ayant une moyenne de 1/6 pour *session_categ* avec un montant de 53.89 qui est la somme des produits de la session."
   ]
  },
  {
   "cell_type": "markdown",
   "metadata": {},
   "source": [
    "## 5. Exportations des Data Frame en fichier csv"
   ]
  },
  {
   "cell_type": "code",
   "execution_count": 76,
   "metadata": {},
   "outputs": [],
   "source": [
    "df_transactions.to_csv(path_or_buf='./Export/transactions.csv', index=False)\n",
    "df_transactions_old.to_csv(path_or_buf='./Export/transactions_w_october.csv', index=False)"
   ]
  }
 ],
 "metadata": {
  "kernelspec": {
   "display_name": "Python 3",
   "language": "python",
   "name": "python3"
  },
  "language_info": {
   "codemirror_mode": {
    "name": "ipython",
    "version": 3
   },
   "file_extension": ".py",
   "mimetype": "text/x-python",
   "name": "python",
   "nbconvert_exporter": "python",
   "pygments_lexer": "ipython3",
   "version": "3.7.6"
  }
 },
 "nbformat": 4,
 "nbformat_minor": 2
}
